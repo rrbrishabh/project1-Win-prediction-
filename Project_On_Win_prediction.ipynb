{
 "cells": [
  {
   "cell_type": "markdown",
   "metadata": {},
   "source": [
    "# Project on Win Prediction Dataset"
   ]
  },
  {
   "cell_type": "code",
   "execution_count": 158,
   "metadata": {},
   "outputs": [],
   "source": [
    "import pandas as pd\n",
    "import numpy as np\n",
    "import matplotlib.pyplot as plt\n",
    "%matplotlib inline\n"
   ]
  },
  {
   "cell_type": "code",
   "execution_count": 159,
   "metadata": {},
   "outputs": [
    {
     "data": {
      "text/html": [
       "<div>\n",
       "<style scoped>\n",
       "    .dataframe tbody tr th:only-of-type {\n",
       "        vertical-align: middle;\n",
       "    }\n",
       "\n",
       "    .dataframe tbody tr th {\n",
       "        vertical-align: top;\n",
       "    }\n",
       "\n",
       "    .dataframe thead th {\n",
       "        text-align: right;\n",
       "    }\n",
       "</style>\n",
       "<table border=\"1\" class=\"dataframe\">\n",
       "  <thead>\n",
       "    <tr style=\"text-align: right;\">\n",
       "      <th></th>\n",
       "      <th>Client Category</th>\n",
       "      <th>Solution Type</th>\n",
       "      <th>Deal Date</th>\n",
       "      <th>Sector</th>\n",
       "      <th>Location</th>\n",
       "      <th>VP Name</th>\n",
       "      <th>Manager Name</th>\n",
       "      <th>Deal Cost</th>\n",
       "      <th>Deal Status Code</th>\n",
       "    </tr>\n",
       "  </thead>\n",
       "  <tbody>\n",
       "    <tr>\n",
       "      <td>0</td>\n",
       "      <td>Telecom</td>\n",
       "      <td>Solution 7</td>\n",
       "      <td>2012-03-27</td>\n",
       "      <td>Sector 24</td>\n",
       "      <td>L5</td>\n",
       "      <td>Ekta Zutshi</td>\n",
       "      <td>Gopa Trilochana</td>\n",
       "      <td>150000.00</td>\n",
       "      <td>Won</td>\n",
       "    </tr>\n",
       "    <tr>\n",
       "      <td>1</td>\n",
       "      <td>Telecom</td>\n",
       "      <td>Solution 7</td>\n",
       "      <td>2012-09-25</td>\n",
       "      <td>Sector 24</td>\n",
       "      <td>L5</td>\n",
       "      <td>Ekta Zutshi</td>\n",
       "      <td>Gopa Trilochana</td>\n",
       "      <td>744705.88</td>\n",
       "      <td>Won</td>\n",
       "    </tr>\n",
       "    <tr>\n",
       "      <td>2</td>\n",
       "      <td>Internal</td>\n",
       "      <td>Solution 59</td>\n",
       "      <td>2011-08-01</td>\n",
       "      <td>Sector 20</td>\n",
       "      <td>Others</td>\n",
       "      <td>Ekta Zutshi</td>\n",
       "      <td>Russell Dahlen</td>\n",
       "      <td>60000.00</td>\n",
       "      <td>Lost</td>\n",
       "    </tr>\n",
       "    <tr>\n",
       "      <td>3</td>\n",
       "      <td>Internal</td>\n",
       "      <td>Solution 59</td>\n",
       "      <td>2011-04-28</td>\n",
       "      <td>Sector 20</td>\n",
       "      <td>Others</td>\n",
       "      <td>Ekta Zutshi</td>\n",
       "      <td>Russell Dahlen</td>\n",
       "      <td>60000.00</td>\n",
       "      <td>Lost</td>\n",
       "    </tr>\n",
       "    <tr>\n",
       "      <td>4</td>\n",
       "      <td>Internal</td>\n",
       "      <td>Solution 32</td>\n",
       "      <td>2011-06-03</td>\n",
       "      <td>Sector 20</td>\n",
       "      <td>Others</td>\n",
       "      <td>Ekta Zutshi</td>\n",
       "      <td>Russell Dahlen</td>\n",
       "      <td>80882.35</td>\n",
       "      <td>Lost</td>\n",
       "    </tr>\n",
       "  </tbody>\n",
       "</table>\n",
       "</div>"
      ],
      "text/plain": [
       "  Client Category Solution Type  Deal Date     Sector Location      VP Name  \\\n",
       "0         Telecom    Solution 7 2012-03-27  Sector 24       L5  Ekta Zutshi   \n",
       "1         Telecom    Solution 7 2012-09-25  Sector 24       L5  Ekta Zutshi   \n",
       "2        Internal   Solution 59 2011-08-01  Sector 20   Others  Ekta Zutshi   \n",
       "3        Internal   Solution 59 2011-04-28  Sector 20   Others  Ekta Zutshi   \n",
       "4        Internal   Solution 32 2011-06-03  Sector 20   Others  Ekta Zutshi   \n",
       "\n",
       "      Manager Name  Deal Cost Deal Status Code  \n",
       "0  Gopa Trilochana  150000.00              Won  \n",
       "1  Gopa Trilochana  744705.88              Won  \n",
       "2   Russell Dahlen   60000.00             Lost  \n",
       "3   Russell Dahlen   60000.00             Lost  \n",
       "4   Russell Dahlen   80882.35             Lost  "
      ]
     },
     "execution_count": 159,
     "metadata": {},
     "output_type": "execute_result"
    }
   ],
   "source": [
    "df = pd.read_excel('Win_Prediction_Data.xlsx')\n",
    "df.head()"
   ]
  },
  {
   "cell_type": "code",
   "execution_count": 160,
   "metadata": {},
   "outputs": [
    {
     "data": {
      "text/plain": [
       "(10061, 9)"
      ]
     },
     "execution_count": 160,
     "metadata": {},
     "output_type": "execute_result"
    }
   ],
   "source": [
    "df.shape"
   ]
  },
  {
   "cell_type": "markdown",
   "metadata": {},
   "source": [
    "## First we do EDA Part on it\n",
    "\n",
    "### checking any null data or not"
   ]
  },
  {
   "cell_type": "code",
   "execution_count": 161,
   "metadata": {},
   "outputs": [
    {
     "name": "stdout",
     "output_type": "stream",
     "text": [
      "<class 'pandas.core.frame.DataFrame'>\n",
      "RangeIndex: 10061 entries, 0 to 10060\n",
      "Data columns (total 9 columns):\n",
      "Client Category     9982 non-null object\n",
      "Solution Type       10061 non-null object\n",
      "Deal Date           10061 non-null datetime64[ns]\n",
      "Sector              10061 non-null object\n",
      "Location            10061 non-null object\n",
      "VP Name             10061 non-null object\n",
      "Manager Name        10061 non-null object\n",
      "Deal Cost           10061 non-null float64\n",
      "Deal Status Code    10061 non-null object\n",
      "dtypes: datetime64[ns](1), float64(1), object(7)\n",
      "memory usage: 707.5+ KB\n"
     ]
    }
   ],
   "source": [
    "# Preliminary Analysis\n",
    "\n",
    "df.info()"
   ]
  },
  {
   "cell_type": "code",
   "execution_count": 162,
   "metadata": {},
   "outputs": [
    {
     "data": {
      "text/plain": [
       "Client Category     79\n",
       "Solution Type        0\n",
       "Deal Date            0\n",
       "Sector               0\n",
       "Location             0\n",
       "VP Name              0\n",
       "Manager Name         0\n",
       "Deal Cost            0\n",
       "Deal Status Code     0\n",
       "dtype: int64"
      ]
     },
     "execution_count": 162,
     "metadata": {},
     "output_type": "execute_result"
    }
   ],
   "source": [
    "df.isnull().sum()"
   ]
  },
  {
   "cell_type": "code",
   "execution_count": 163,
   "metadata": {},
   "outputs": [
    {
     "name": "stdout",
     "output_type": "stream",
     "text": [
      "First deal:2011-04-19 00:00:00\n",
      "Last Deal:2019-06-07 00:00:00\n"
     ]
    }
   ],
   "source": [
    "# Deal Date range\n",
    "print('First deal:{}\\nLast Deal:{}'.format(df['Deal Date'].min(),df['Deal Date'].max()))\n",
    "\n"
   ]
  },
  {
   "cell_type": "markdown",
   "metadata": {},
   "source": [
    "# Data Cleaning"
   ]
  },
  {
   "cell_type": "markdown",
   "metadata": {},
   "source": [
    "### as i seen there are 79 values are missing in Client Category"
   ]
  },
  {
   "cell_type": "code",
   "execution_count": 164,
   "metadata": {},
   "outputs": [
    {
     "data": {
      "text/html": [
       "<div>\n",
       "<style scoped>\n",
       "    .dataframe tbody tr th:only-of-type {\n",
       "        vertical-align: middle;\n",
       "    }\n",
       "\n",
       "    .dataframe tbody tr th {\n",
       "        vertical-align: top;\n",
       "    }\n",
       "\n",
       "    .dataframe thead th {\n",
       "        text-align: right;\n",
       "    }\n",
       "</style>\n",
       "<table border=\"1\" class=\"dataframe\">\n",
       "  <thead>\n",
       "    <tr style=\"text-align: right;\">\n",
       "      <th></th>\n",
       "      <th>0</th>\n",
       "    </tr>\n",
       "  </thead>\n",
       "  <tbody>\n",
       "    <tr>\n",
       "      <td>Client Category</td>\n",
       "      <td>41</td>\n",
       "    </tr>\n",
       "    <tr>\n",
       "      <td>Solution Type</td>\n",
       "      <td>67</td>\n",
       "    </tr>\n",
       "    <tr>\n",
       "      <td>Deal Date</td>\n",
       "      <td>2555</td>\n",
       "    </tr>\n",
       "    <tr>\n",
       "      <td>Sector</td>\n",
       "      <td>25</td>\n",
       "    </tr>\n",
       "    <tr>\n",
       "      <td>Location</td>\n",
       "      <td>13</td>\n",
       "    </tr>\n",
       "    <tr>\n",
       "      <td>VP Name</td>\n",
       "      <td>43</td>\n",
       "    </tr>\n",
       "    <tr>\n",
       "      <td>Manager Name</td>\n",
       "      <td>278</td>\n",
       "    </tr>\n",
       "    <tr>\n",
       "      <td>Deal Cost</td>\n",
       "      <td>1469</td>\n",
       "    </tr>\n",
       "    <tr>\n",
       "      <td>Deal Status Code</td>\n",
       "      <td>2</td>\n",
       "    </tr>\n",
       "  </tbody>\n",
       "</table>\n",
       "</div>"
      ],
      "text/plain": [
       "                     0\n",
       "Client Category     41\n",
       "Solution Type       67\n",
       "Deal Date         2555\n",
       "Sector              25\n",
       "Location            13\n",
       "VP Name             43\n",
       "Manager Name       278\n",
       "Deal Cost         1469\n",
       "Deal Status Code     2"
      ]
     },
     "execution_count": 164,
     "metadata": {},
     "output_type": "execute_result"
    }
   ],
   "source": [
    "pd.DataFrame(df.nunique())"
   ]
  },
  {
   "cell_type": "code",
   "execution_count": 165,
   "metadata": {},
   "outputs": [
    {
     "data": {
      "text/plain": [
       "(9815, 9)"
      ]
     },
     "execution_count": 165,
     "metadata": {},
     "output_type": "execute_result"
    }
   ],
   "source": [
    "# Removing observation where Deal Cost is 0.\n",
    "df = df[df[\"Deal Cost\"]>0]\n",
    "df.shape"
   ]
  },
  {
   "cell_type": "code",
   "execution_count": 166,
   "metadata": {},
   "outputs": [
    {
     "data": {
      "text/plain": [
       "(9802, 9)"
      ]
     },
     "execution_count": 166,
     "metadata": {},
     "output_type": "execute_result"
    }
   ],
   "source": [
    "# Removing Duplicates if any\n",
    "df = df.drop_duplicates()\n",
    "df.shape"
   ]
  },
  {
   "cell_type": "code",
   "execution_count": 167,
   "metadata": {},
   "outputs": [
    {
     "data": {
      "text/plain": [
       "0    Others\n",
       "dtype: object"
      ]
     },
     "execution_count": 167,
     "metadata": {},
     "output_type": "execute_result"
    }
   ],
   "source": [
    "df['Client Category'].mode()"
   ]
  },
  {
   "cell_type": "code",
   "execution_count": 168,
   "metadata": {},
   "outputs": [
    {
     "data": {
      "text/plain": [
       "Client Category     0\n",
       "Solution Type       0\n",
       "Deal Date           0\n",
       "Sector              0\n",
       "Location            0\n",
       "VP Name             0\n",
       "Manager Name        0\n",
       "Deal Cost           0\n",
       "Deal Status Code    0\n",
       "dtype: int64"
      ]
     },
     "execution_count": 168,
     "metadata": {},
     "output_type": "execute_result"
    }
   ],
   "source": [
    "# Filling null values with mode\n",
    "df['Client Category'] = df['Client Category'].fillna('Others')\n",
    "df.isna().sum()"
   ]
  },
  {
   "cell_type": "code",
   "execution_count": 169,
   "metadata": {},
   "outputs": [
    {
     "data": {
      "text/plain": [
       "[<matplotlib.lines.Line2D at 0x7fde945fb110>]"
      ]
     },
     "execution_count": 169,
     "metadata": {},
     "output_type": "execute_result"
    },
    {
     "data": {
      "image/png": "[encoded data removed]",
      "text/plain": [
       "<Figure size 432x288 with 1 Axes>"
      ]
     },
     "metadata": {
      "needs_background": "light"
     },
     "output_type": "display_data"
    }
   ],
   "source": [
    "## we see the dealcost data \n",
    "\n",
    "plt.plot(df['Deal Cost'])"
   ]
  },
  {
   "cell_type": "code",
   "execution_count": 170,
   "metadata": {},
   "outputs": [
    {
     "data": {
      "text/plain": [
       "0    0.004072\n",
       "1    0.020248\n",
       "2    0.001624\n",
       "3    0.001624\n",
       "4    0.002192\n",
       "Name: Deal Cost, dtype: float64"
      ]
     },
     "execution_count": 170,
     "metadata": {},
     "output_type": "execute_result"
    }
   ],
   "source": [
    "# as i see the data there is a very fluctuation in the data so we scale the data with help of minmaxscaler\n",
    "\n",
    "from sklearn.preprocessing import MinMaxScaler\n",
    "\n",
    "scaler = MinMaxScaler()\n",
    "scaler.fit(df[['Deal Cost']])\n",
    "df['Deal Cost'] = scaler.transform(df[['Deal Cost']])\n",
    "df['Deal Cost'].head()"
   ]
  },
  {
   "cell_type": "code",
   "execution_count": 171,
   "metadata": {},
   "outputs": [
    {
     "data": {
      "text/html": [
       "<div>\n",
       "<style scoped>\n",
       "    .dataframe tbody tr th:only-of-type {\n",
       "        vertical-align: middle;\n",
       "    }\n",
       "\n",
       "    .dataframe tbody tr th {\n",
       "        vertical-align: top;\n",
       "    }\n",
       "\n",
       "    .dataframe thead th {\n",
       "        text-align: right;\n",
       "    }\n",
       "</style>\n",
       "<table border=\"1\" class=\"dataframe\">\n",
       "  <thead>\n",
       "    <tr style=\"text-align: right;\">\n",
       "      <th></th>\n",
       "      <th>Deal Cost</th>\n",
       "    </tr>\n",
       "  </thead>\n",
       "  <tbody>\n",
       "    <tr>\n",
       "      <td>count</td>\n",
       "      <td>9802.00</td>\n",
       "    </tr>\n",
       "    <tr>\n",
       "      <td>mean</td>\n",
       "      <td>0.02</td>\n",
       "    </tr>\n",
       "    <tr>\n",
       "      <td>std</td>\n",
       "      <td>0.04</td>\n",
       "    </tr>\n",
       "    <tr>\n",
       "      <td>min</td>\n",
       "      <td>0.00</td>\n",
       "    </tr>\n",
       "    <tr>\n",
       "      <td>25%</td>\n",
       "      <td>0.01</td>\n",
       "    </tr>\n",
       "    <tr>\n",
       "      <td>50%</td>\n",
       "      <td>0.01</td>\n",
       "    </tr>\n",
       "    <tr>\n",
       "      <td>75%</td>\n",
       "      <td>0.02</td>\n",
       "    </tr>\n",
       "    <tr>\n",
       "      <td>max</td>\n",
       "      <td>1.00</td>\n",
       "    </tr>\n",
       "  </tbody>\n",
       "</table>\n",
       "</div>"
      ],
      "text/plain": [
       "       Deal Cost\n",
       "count    9802.00\n",
       "mean        0.02\n",
       "std         0.04\n",
       "min         0.00\n",
       "25%         0.01\n",
       "50%         0.01\n",
       "75%         0.02\n",
       "max         1.00"
      ]
     },
     "execution_count": 171,
     "metadata": {},
     "output_type": "execute_result"
    }
   ],
   "source": [
    "df.describe().round(2)"
   ]
  },
  {
   "cell_type": "markdown",
   "metadata": {},
   "source": [
    "# Data Manipulation"
   ]
  },
  {
   "cell_type": "code",
   "execution_count": 172,
   "metadata": {},
   "outputs": [
    {
     "data": {
      "text/html": [
       "<div>\n",
       "<style scoped>\n",
       "    .dataframe tbody tr th:only-of-type {\n",
       "        vertical-align: middle;\n",
       "    }\n",
       "\n",
       "    .dataframe tbody tr th {\n",
       "        vertical-align: top;\n",
       "    }\n",
       "\n",
       "    .dataframe thead th {\n",
       "        text-align: right;\n",
       "    }\n",
       "</style>\n",
       "<table border=\"1\" class=\"dataframe\">\n",
       "  <thead>\n",
       "    <tr style=\"text-align: right;\">\n",
       "      <th></th>\n",
       "      <th>Client Category</th>\n",
       "      <th>Solution Type</th>\n",
       "      <th>Deal Date</th>\n",
       "      <th>Sector</th>\n",
       "      <th>Location</th>\n",
       "      <th>VP Name</th>\n",
       "      <th>Manager Name</th>\n",
       "      <th>Deal Cost</th>\n",
       "      <th>Deal Status Code</th>\n",
       "    </tr>\n",
       "  </thead>\n",
       "  <tbody>\n",
       "    <tr>\n",
       "      <td>0</td>\n",
       "      <td>Telecom</td>\n",
       "      <td>Solution 7</td>\n",
       "      <td>2012-03-27</td>\n",
       "      <td>Sector 24</td>\n",
       "      <td>L5</td>\n",
       "      <td>Ekta Zutshi</td>\n",
       "      <td>Gopa Trilochana</td>\n",
       "      <td>0.004072</td>\n",
       "      <td>Won</td>\n",
       "    </tr>\n",
       "    <tr>\n",
       "      <td>1</td>\n",
       "      <td>Telecom</td>\n",
       "      <td>Solution 7</td>\n",
       "      <td>2012-09-25</td>\n",
       "      <td>Sector 24</td>\n",
       "      <td>L5</td>\n",
       "      <td>Ekta Zutshi</td>\n",
       "      <td>Gopa Trilochana</td>\n",
       "      <td>0.020248</td>\n",
       "      <td>Won</td>\n",
       "    </tr>\n",
       "    <tr>\n",
       "      <td>2</td>\n",
       "      <td>Internal</td>\n",
       "      <td>Solution 59</td>\n",
       "      <td>2011-08-01</td>\n",
       "      <td>Sector 20</td>\n",
       "      <td>Others</td>\n",
       "      <td>Ekta Zutshi</td>\n",
       "      <td>Russell Dahlen</td>\n",
       "      <td>0.001624</td>\n",
       "      <td>Lost</td>\n",
       "    </tr>\n",
       "    <tr>\n",
       "      <td>3</td>\n",
       "      <td>Internal</td>\n",
       "      <td>Solution 59</td>\n",
       "      <td>2011-04-28</td>\n",
       "      <td>Sector 20</td>\n",
       "      <td>Others</td>\n",
       "      <td>Ekta Zutshi</td>\n",
       "      <td>Russell Dahlen</td>\n",
       "      <td>0.001624</td>\n",
       "      <td>Lost</td>\n",
       "    </tr>\n",
       "    <tr>\n",
       "      <td>4</td>\n",
       "      <td>Internal</td>\n",
       "      <td>Solution 32</td>\n",
       "      <td>2011-06-03</td>\n",
       "      <td>Sector 20</td>\n",
       "      <td>Others</td>\n",
       "      <td>Ekta Zutshi</td>\n",
       "      <td>Russell Dahlen</td>\n",
       "      <td>0.002192</td>\n",
       "      <td>Lost</td>\n",
       "    </tr>\n",
       "  </tbody>\n",
       "</table>\n",
       "</div>"
      ],
      "text/plain": [
       "  Client Category Solution Type  Deal Date     Sector Location      VP Name  \\\n",
       "0         Telecom    Solution 7 2012-03-27  Sector 24       L5  Ekta Zutshi   \n",
       "1         Telecom    Solution 7 2012-09-25  Sector 24       L5  Ekta Zutshi   \n",
       "2        Internal   Solution 59 2011-08-01  Sector 20   Others  Ekta Zutshi   \n",
       "3        Internal   Solution 59 2011-04-28  Sector 20   Others  Ekta Zutshi   \n",
       "4        Internal   Solution 32 2011-06-03  Sector 20   Others  Ekta Zutshi   \n",
       "\n",
       "      Manager Name  Deal Cost Deal Status Code  \n",
       "0  Gopa Trilochana   0.004072              Won  \n",
       "1  Gopa Trilochana   0.020248              Won  \n",
       "2   Russell Dahlen   0.001624             Lost  \n",
       "3   Russell Dahlen   0.001624             Lost  \n",
       "4   Russell Dahlen   0.002192             Lost  "
      ]
     },
     "execution_count": 172,
     "metadata": {},
     "output_type": "execute_result"
    }
   ],
   "source": [
    "df.head()"
   ]
  },
  {
   "cell_type": "code",
   "execution_count": 173,
   "metadata": {},
   "outputs": [
    {
     "data": {
      "text/html": [
       "<div>\n",
       "<style scoped>\n",
       "    .dataframe tbody tr th:only-of-type {\n",
       "        vertical-align: middle;\n",
       "    }\n",
       "\n",
       "    .dataframe tbody tr th {\n",
       "        vertical-align: top;\n",
       "    }\n",
       "\n",
       "    .dataframe thead th {\n",
       "        text-align: right;\n",
       "    }\n",
       "</style>\n",
       "<table border=\"1\" class=\"dataframe\">\n",
       "  <thead>\n",
       "    <tr style=\"text-align: right;\">\n",
       "      <th></th>\n",
       "      <th>Client Category</th>\n",
       "      <th>Solution Type</th>\n",
       "      <th>Deal Date</th>\n",
       "      <th>Sector</th>\n",
       "      <th>Location</th>\n",
       "      <th>VP Name</th>\n",
       "      <th>Manager Name</th>\n",
       "      <th>Deal Cost</th>\n",
       "      <th>Deal Status Code</th>\n",
       "      <th>Deal_Status</th>\n",
       "    </tr>\n",
       "  </thead>\n",
       "  <tbody>\n",
       "    <tr>\n",
       "      <td>0</td>\n",
       "      <td>Telecom</td>\n",
       "      <td>Solution 7</td>\n",
       "      <td>2012-03-27</td>\n",
       "      <td>Sector 24</td>\n",
       "      <td>L5</td>\n",
       "      <td>Ekta Zutshi</td>\n",
       "      <td>Gopa Trilochana</td>\n",
       "      <td>0.004072</td>\n",
       "      <td>Won</td>\n",
       "      <td>1</td>\n",
       "    </tr>\n",
       "    <tr>\n",
       "      <td>1</td>\n",
       "      <td>Telecom</td>\n",
       "      <td>Solution 7</td>\n",
       "      <td>2012-09-25</td>\n",
       "      <td>Sector 24</td>\n",
       "      <td>L5</td>\n",
       "      <td>Ekta Zutshi</td>\n",
       "      <td>Gopa Trilochana</td>\n",
       "      <td>0.020248</td>\n",
       "      <td>Won</td>\n",
       "      <td>1</td>\n",
       "    </tr>\n",
       "    <tr>\n",
       "      <td>2</td>\n",
       "      <td>Internal</td>\n",
       "      <td>Solution 59</td>\n",
       "      <td>2011-08-01</td>\n",
       "      <td>Sector 20</td>\n",
       "      <td>Others</td>\n",
       "      <td>Ekta Zutshi</td>\n",
       "      <td>Russell Dahlen</td>\n",
       "      <td>0.001624</td>\n",
       "      <td>Lost</td>\n",
       "      <td>0</td>\n",
       "    </tr>\n",
       "    <tr>\n",
       "      <td>3</td>\n",
       "      <td>Internal</td>\n",
       "      <td>Solution 59</td>\n",
       "      <td>2011-04-28</td>\n",
       "      <td>Sector 20</td>\n",
       "      <td>Others</td>\n",
       "      <td>Ekta Zutshi</td>\n",
       "      <td>Russell Dahlen</td>\n",
       "      <td>0.001624</td>\n",
       "      <td>Lost</td>\n",
       "      <td>0</td>\n",
       "    </tr>\n",
       "    <tr>\n",
       "      <td>4</td>\n",
       "      <td>Internal</td>\n",
       "      <td>Solution 32</td>\n",
       "      <td>2011-06-03</td>\n",
       "      <td>Sector 20</td>\n",
       "      <td>Others</td>\n",
       "      <td>Ekta Zutshi</td>\n",
       "      <td>Russell Dahlen</td>\n",
       "      <td>0.002192</td>\n",
       "      <td>Lost</td>\n",
       "      <td>0</td>\n",
       "    </tr>\n",
       "  </tbody>\n",
       "</table>\n",
       "</div>"
      ],
      "text/plain": [
       "  Client Category Solution Type  Deal Date     Sector Location      VP Name  \\\n",
       "0         Telecom    Solution 7 2012-03-27  Sector 24       L5  Ekta Zutshi   \n",
       "1         Telecom    Solution 7 2012-09-25  Sector 24       L5  Ekta Zutshi   \n",
       "2        Internal   Solution 59 2011-08-01  Sector 20   Others  Ekta Zutshi   \n",
       "3        Internal   Solution 59 2011-04-28  Sector 20   Others  Ekta Zutshi   \n",
       "4        Internal   Solution 32 2011-06-03  Sector 20   Others  Ekta Zutshi   \n",
       "\n",
       "      Manager Name  Deal Cost Deal Status Code  Deal_Status  \n",
       "0  Gopa Trilochana   0.004072              Won            1  \n",
       "1  Gopa Trilochana   0.020248              Won            1  \n",
       "2   Russell Dahlen   0.001624             Lost            0  \n",
       "3   Russell Dahlen   0.001624             Lost            0  \n",
       "4   Russell Dahlen   0.002192             Lost            0  "
      ]
     },
     "execution_count": 173,
     "metadata": {},
     "output_type": "execute_result"
    }
   ],
   "source": [
    "df['Deal_Status'] = df['Deal Status Code']\n",
    "df['Deal_Status'] = df['Deal_Status'].replace({'Won':1,'Lost':0})\n",
    "df.head()"
   ]
  },
  {
   "cell_type": "code",
   "execution_count": 174,
   "metadata": {},
   "outputs": [
    {
     "name": "stdout",
     "output_type": "stream",
     "text": [
      "<class 'pandas.core.frame.DataFrame'>\n",
      "Int64Index: 9802 entries, 0 to 10060\n",
      "Data columns (total 10 columns):\n",
      "Client Category     9802 non-null object\n",
      "Solution Type       9802 non-null object\n",
      "Deal Date           9802 non-null datetime64[ns]\n",
      "Sector              9802 non-null object\n",
      "Location            9802 non-null object\n",
      "VP Name             9802 non-null object\n",
      "Manager Name        9802 non-null object\n",
      "Deal Cost           9802 non-null float64\n",
      "Deal Status Code    9802 non-null object\n",
      "Deal_Status         9802 non-null int64\n",
      "dtypes: datetime64[ns](1), float64(1), int64(1), object(7)\n",
      "memory usage: 842.4+ KB\n"
     ]
    }
   ],
   "source": [
    "df.info()"
   ]
  },
  {
   "cell_type": "code",
   "execution_count": 175,
   "metadata": {},
   "outputs": [
    {
     "data": {
      "text/plain": [
       "['FacetGrid',\n",
       " 'JointGrid',\n",
       " 'PairGrid',\n",
       " '__builtins__',\n",
       " '__cached__',\n",
       " '__doc__',\n",
       " '__file__',\n",
       " '__loader__',\n",
       " '__name__',\n",
       " '__package__',\n",
       " '__path__',\n",
       " '__spec__',\n",
       " '__version__',\n",
       " '_orig_rc_params',\n",
       " 'algorithms',\n",
       " 'axes_style',\n",
       " 'axisgrid',\n",
       " 'barplot',\n",
       " 'blend_palette',\n",
       " 'boxenplot',\n",
       " 'boxplot',\n",
       " 'categorical',\n",
       " 'catplot',\n",
       " 'choose_colorbrewer_palette',\n",
       " 'choose_cubehelix_palette',\n",
       " 'choose_dark_palette',\n",
       " 'choose_diverging_palette',\n",
       " 'choose_light_palette',\n",
       " 'clustermap',\n",
       " 'cm',\n",
       " 'color_palette',\n",
       " 'colors',\n",
       " 'countplot',\n",
       " 'crayon_palette',\n",
       " 'crayons',\n",
       " 'cubehelix_palette',\n",
       " 'dark_palette',\n",
       " 'desaturate',\n",
       " 'despine',\n",
       " 'distplot',\n",
       " 'distributions',\n",
       " 'diverging_palette',\n",
       " 'dogplot',\n",
       " 'external',\n",
       " 'factorplot',\n",
       " 'get_dataset_names',\n",
       " 'heatmap',\n",
       " 'hls_palette',\n",
       " 'husl_palette',\n",
       " 'jointplot',\n",
       " 'kdeplot',\n",
       " 'light_palette',\n",
       " 'lineplot',\n",
       " 'lmplot',\n",
       " 'load_dataset',\n",
       " 'lvplot',\n",
       " 'matrix',\n",
       " 'miscplot',\n",
       " 'mpl',\n",
       " 'mpl_palette',\n",
       " 'pairplot',\n",
       " 'palettes',\n",
       " 'palplot',\n",
       " 'plotting_context',\n",
       " 'pointplot',\n",
       " 'rcmod',\n",
       " 'regplot',\n",
       " 'regression',\n",
       " 'relational',\n",
       " 'relplot',\n",
       " 'reset_defaults',\n",
       " 'reset_orig',\n",
       " 'residplot',\n",
       " 'rugplot',\n",
       " 'saturate',\n",
       " 'scatterplot',\n",
       " 'set',\n",
       " 'set_color_codes',\n",
       " 'set_context',\n",
       " 'set_hls_values',\n",
       " 'set_palette',\n",
       " 'set_style',\n",
       " 'stripplot',\n",
       " 'swarmplot',\n",
       " 'timeseries',\n",
       " 'tsplot',\n",
       " 'utils',\n",
       " 'violinplot',\n",
       " 'widgets',\n",
       " 'xkcd_palette',\n",
       " 'xkcd_rgb']"
      ]
     },
     "execution_count": 175,
     "metadata": {},
     "output_type": "execute_result"
    }
   ],
   "source": [
    "# use seaborn for better visualization\n",
    "\n",
    "import seaborn as sns\n",
    "dir(sns)"
   ]
  },
  {
   "cell_type": "code",
   "execution_count": 176,
   "metadata": {},
   "outputs": [
    {
     "data": {
      "image/png": "[encoded data removed]",
      "text/plain": [
       "<Figure size 1440x360 with 1 Axes>"
      ]
     },
     "metadata": {
      "needs_background": "light"
     },
     "output_type": "display_data"
    }
   ],
   "source": [
    "plt.figure(figsize = (20,5))\n",
    "sns.distplot(df['Deal Cost'], kde = True, bins = 16);"
   ]
  },
  {
   "cell_type": "code",
   "execution_count": 177,
   "metadata": {},
   "outputs": [
    {
     "data": {
      "text/plain": [
       "Low          9748\n",
       "Medium         38\n",
       "High           10\n",
       "Very High       6\n",
       "Name: Cost_Range, dtype: int64"
      ]
     },
     "execution_count": 177,
     "metadata": {},
     "output_type": "execute_result"
    }
   ],
   "source": [
    "# here we use feature engineering for this deal cost column\n",
    "# we cut the values in four sections like low medium high very high\n",
    "\n",
    "df['Cost_Range'] = pd.cut(df['Deal Cost'],bins=4,labels=[\"Low\", \"Medium\", \"High\",\"Very High\"])\n",
    "df['Cost_Range'].value_counts()"
   ]
  },
  {
   "cell_type": "code",
   "execution_count": 178,
   "metadata": {},
   "outputs": [
    {
     "data": {
      "text/html": [
       "<div>\n",
       "<style scoped>\n",
       "    .dataframe tbody tr th:only-of-type {\n",
       "        vertical-align: middle;\n",
       "    }\n",
       "\n",
       "    .dataframe tbody tr th {\n",
       "        vertical-align: top;\n",
       "    }\n",
       "\n",
       "    .dataframe thead th {\n",
       "        text-align: right;\n",
       "    }\n",
       "</style>\n",
       "<table border=\"1\" class=\"dataframe\">\n",
       "  <thead>\n",
       "    <tr style=\"text-align: right;\">\n",
       "      <th></th>\n",
       "      <th>Client Category</th>\n",
       "      <th>Solution Type</th>\n",
       "      <th>Deal Date</th>\n",
       "      <th>Sector</th>\n",
       "      <th>Location</th>\n",
       "      <th>VP Name</th>\n",
       "      <th>Manager Name</th>\n",
       "      <th>Deal Cost</th>\n",
       "      <th>Deal Status Code</th>\n",
       "      <th>Deal_Status</th>\n",
       "      <th>Cost_Range</th>\n",
       "    </tr>\n",
       "  </thead>\n",
       "  <tbody>\n",
       "    <tr>\n",
       "      <td>0</td>\n",
       "      <td>Telecom</td>\n",
       "      <td>Solution 7</td>\n",
       "      <td>2012-03-27</td>\n",
       "      <td>Sector 24</td>\n",
       "      <td>L5</td>\n",
       "      <td>Ekta Zutshi</td>\n",
       "      <td>Gopa Trilochana</td>\n",
       "      <td>0.004072</td>\n",
       "      <td>Won</td>\n",
       "      <td>1</td>\n",
       "      <td>Low</td>\n",
       "    </tr>\n",
       "  </tbody>\n",
       "</table>\n",
       "</div>"
      ],
      "text/plain": [
       "  Client Category Solution Type  Deal Date     Sector Location      VP Name  \\\n",
       "0         Telecom    Solution 7 2012-03-27  Sector 24       L5  Ekta Zutshi   \n",
       "\n",
       "      Manager Name  Deal Cost Deal Status Code  Deal_Status Cost_Range  \n",
       "0  Gopa Trilochana   0.004072              Won            1        Low  "
      ]
     },
     "execution_count": 178,
     "metadata": {},
     "output_type": "execute_result"
    }
   ],
   "source": [
    "df.head(1)"
   ]
  },
  {
   "cell_type": "code",
   "execution_count": 179,
   "metadata": {},
   "outputs": [
    {
     "data": {
      "text/html": [
       "<div>\n",
       "<style scoped>\n",
       "    .dataframe tbody tr th:only-of-type {\n",
       "        vertical-align: middle;\n",
       "    }\n",
       "\n",
       "    .dataframe tbody tr th {\n",
       "        vertical-align: top;\n",
       "    }\n",
       "\n",
       "    .dataframe thead th {\n",
       "        text-align: right;\n",
       "    }\n",
       "</style>\n",
       "<table border=\"1\" class=\"dataframe\">\n",
       "  <thead>\n",
       "    <tr style=\"text-align: right;\">\n",
       "      <th></th>\n",
       "      <th>Client Category</th>\n",
       "      <th>Solution Type</th>\n",
       "      <th>Deal Date</th>\n",
       "      <th>Sector</th>\n",
       "      <th>Location</th>\n",
       "      <th>VP Name</th>\n",
       "      <th>Manager Name</th>\n",
       "      <th>Deal Cost</th>\n",
       "      <th>Deal Status Code</th>\n",
       "      <th>Deal_Status</th>\n",
       "      <th>Cost_Range</th>\n",
       "      <th>Deal_Year</th>\n",
       "    </tr>\n",
       "  </thead>\n",
       "  <tbody>\n",
       "    <tr>\n",
       "      <td>0</td>\n",
       "      <td>Telecom</td>\n",
       "      <td>Solution 7</td>\n",
       "      <td>2012-03-27</td>\n",
       "      <td>Sector 24</td>\n",
       "      <td>L5</td>\n",
       "      <td>Ekta Zutshi</td>\n",
       "      <td>Gopa Trilochana</td>\n",
       "      <td>0.004072</td>\n",
       "      <td>Won</td>\n",
       "      <td>1</td>\n",
       "      <td>Low</td>\n",
       "      <td>2012</td>\n",
       "    </tr>\n",
       "  </tbody>\n",
       "</table>\n",
       "</div>"
      ],
      "text/plain": [
       "  Client Category Solution Type  Deal Date     Sector Location      VP Name  \\\n",
       "0         Telecom    Solution 7 2012-03-27  Sector 24       L5  Ekta Zutshi   \n",
       "\n",
       "      Manager Name  Deal Cost Deal Status Code  Deal_Status Cost_Range  \\\n",
       "0  Gopa Trilochana   0.004072              Won            1        Low   \n",
       "\n",
       "   Deal_Year  \n",
       "0       2012  "
      ]
     },
     "execution_count": 179,
     "metadata": {},
     "output_type": "execute_result"
    }
   ],
   "source": [
    "# we also doing this in deal date separate  with year\n",
    "# Adding Year column\n",
    "df['Deal_Year'] = df['Deal Date'].dt.year\n",
    "df.head(1)"
   ]
  },
  {
   "cell_type": "code",
   "execution_count": 180,
   "metadata": {},
   "outputs": [
    {
     "data": {
      "text/html": [
       "<div>\n",
       "<style scoped>\n",
       "    .dataframe tbody tr th:only-of-type {\n",
       "        vertical-align: middle;\n",
       "    }\n",
       "\n",
       "    .dataframe tbody tr th {\n",
       "        vertical-align: top;\n",
       "    }\n",
       "\n",
       "    .dataframe thead th {\n",
       "        text-align: right;\n",
       "    }\n",
       "</style>\n",
       "<table border=\"1\" class=\"dataframe\">\n",
       "  <thead>\n",
       "    <tr style=\"text-align: right;\">\n",
       "      <th></th>\n",
       "      <th>Client Category</th>\n",
       "      <th>Solution Type</th>\n",
       "      <th>Deal Date</th>\n",
       "      <th>Sector</th>\n",
       "      <th>Location</th>\n",
       "      <th>VP Name</th>\n",
       "      <th>Manager Name</th>\n",
       "      <th>Deal Cost</th>\n",
       "      <th>Deal Status Code</th>\n",
       "      <th>Deal_Status</th>\n",
       "      <th>Cost_Range</th>\n",
       "      <th>Deal_Year</th>\n",
       "    </tr>\n",
       "  </thead>\n",
       "  <tbody>\n",
       "    <tr>\n",
       "      <td>128</td>\n",
       "      <td>Tech</td>\n",
       "      <td>Solution 7</td>\n",
       "      <td>2017-04-04</td>\n",
       "      <td>Sector 23</td>\n",
       "      <td>L10</td>\n",
       "      <td>Long Bergstrom</td>\n",
       "      <td>Russell Dahlen</td>\n",
       "      <td>0.016152</td>\n",
       "      <td>Lost</td>\n",
       "      <td>0</td>\n",
       "      <td>Low</td>\n",
       "      <td>2017</td>\n",
       "    </tr>\n",
       "    <tr>\n",
       "      <td>131</td>\n",
       "      <td>Medical</td>\n",
       "      <td>Solution 7</td>\n",
       "      <td>2017-04-26</td>\n",
       "      <td>Sector 14</td>\n",
       "      <td>L7</td>\n",
       "      <td>Rosanna Maynez</td>\n",
       "      <td>Marcella Mo</td>\n",
       "      <td>0.003992</td>\n",
       "      <td>Lost</td>\n",
       "      <td>0</td>\n",
       "      <td>Low</td>\n",
       "      <td>2017</td>\n",
       "    </tr>\n",
       "    <tr>\n",
       "      <td>136</td>\n",
       "      <td>Tech</td>\n",
       "      <td>Solution 7</td>\n",
       "      <td>2017-04-02</td>\n",
       "      <td>Sector 23</td>\n",
       "      <td>L10</td>\n",
       "      <td>Long Bergstrom</td>\n",
       "      <td>Russell Dahlen</td>\n",
       "      <td>0.016152</td>\n",
       "      <td>Lost</td>\n",
       "      <td>0</td>\n",
       "      <td>Low</td>\n",
       "      <td>2017</td>\n",
       "    </tr>\n",
       "  </tbody>\n",
       "</table>\n",
       "</div>"
      ],
      "text/plain": [
       "    Client Category Solution Type  Deal Date     Sector Location  \\\n",
       "128            Tech    Solution 7 2017-04-04  Sector 23      L10   \n",
       "131        Medical     Solution 7 2017-04-26  Sector 14       L7   \n",
       "136            Tech    Solution 7 2017-04-02  Sector 23      L10   \n",
       "\n",
       "            VP Name    Manager Name  Deal Cost Deal Status Code  Deal_Status  \\\n",
       "128  Long Bergstrom  Russell Dahlen   0.016152             Lost            0   \n",
       "131  Rosanna Maynez     Marcella Mo   0.003992             Lost            0   \n",
       "136  Long Bergstrom  Russell Dahlen   0.016152             Lost            0   \n",
       "\n",
       "    Cost_Range  Deal_Year  \n",
       "128        Low       2017  \n",
       "131        Low       2017  \n",
       "136        Low       2017  "
      ]
     },
     "execution_count": 180,
     "metadata": {},
     "output_type": "execute_result"
    }
   ],
   "source": [
    "# Seperating recent years to different dataframe\n",
    "df_2016 = df[df['Deal_Year']>2016]\n",
    "df_2016.head(3)"
   ]
  },
  {
   "cell_type": "code",
   "execution_count": 181,
   "metadata": {},
   "outputs": [
    {
     "data": {
      "text/html": [
       "<div>\n",
       "<style scoped>\n",
       "    .dataframe tbody tr th:only-of-type {\n",
       "        vertical-align: middle;\n",
       "    }\n",
       "\n",
       "    .dataframe tbody tr th {\n",
       "        vertical-align: top;\n",
       "    }\n",
       "\n",
       "    .dataframe thead th {\n",
       "        text-align: right;\n",
       "    }\n",
       "</style>\n",
       "<table border=\"1\" class=\"dataframe\">\n",
       "  <thead>\n",
       "    <tr style=\"text-align: right;\">\n",
       "      <th></th>\n",
       "      <th>Client Category</th>\n",
       "      <th>Solution Type</th>\n",
       "      <th>Deal Date</th>\n",
       "      <th>Sector</th>\n",
       "      <th>Location</th>\n",
       "      <th>VP Name</th>\n",
       "      <th>Manager Name</th>\n",
       "      <th>Deal Cost</th>\n",
       "      <th>Deal Status Code</th>\n",
       "      <th>Deal_Status</th>\n",
       "      <th>Cost_Range</th>\n",
       "      <th>Deal_Year</th>\n",
       "      <th>Deal_Month</th>\n",
       "      <th>Year_Month</th>\n",
       "    </tr>\n",
       "  </thead>\n",
       "  <tbody>\n",
       "    <tr>\n",
       "      <td>0</td>\n",
       "      <td>Telecom</td>\n",
       "      <td>Solution 7</td>\n",
       "      <td>2012-03-27</td>\n",
       "      <td>Sector 24</td>\n",
       "      <td>L5</td>\n",
       "      <td>Ekta Zutshi</td>\n",
       "      <td>Gopa Trilochana</td>\n",
       "      <td>0.004072</td>\n",
       "      <td>Won</td>\n",
       "      <td>1</td>\n",
       "      <td>Low</td>\n",
       "      <td>2012</td>\n",
       "      <td>March</td>\n",
       "      <td>March-2012</td>\n",
       "    </tr>\n",
       "    <tr>\n",
       "      <td>1</td>\n",
       "      <td>Telecom</td>\n",
       "      <td>Solution 7</td>\n",
       "      <td>2012-09-25</td>\n",
       "      <td>Sector 24</td>\n",
       "      <td>L5</td>\n",
       "      <td>Ekta Zutshi</td>\n",
       "      <td>Gopa Trilochana</td>\n",
       "      <td>0.020248</td>\n",
       "      <td>Won</td>\n",
       "      <td>1</td>\n",
       "      <td>Low</td>\n",
       "      <td>2012</td>\n",
       "      <td>September</td>\n",
       "      <td>September-2012</td>\n",
       "    </tr>\n",
       "    <tr>\n",
       "      <td>2</td>\n",
       "      <td>Internal</td>\n",
       "      <td>Solution 59</td>\n",
       "      <td>2011-08-01</td>\n",
       "      <td>Sector 20</td>\n",
       "      <td>Others</td>\n",
       "      <td>Ekta Zutshi</td>\n",
       "      <td>Russell Dahlen</td>\n",
       "      <td>0.001624</td>\n",
       "      <td>Lost</td>\n",
       "      <td>0</td>\n",
       "      <td>Low</td>\n",
       "      <td>2011</td>\n",
       "      <td>August</td>\n",
       "      <td>August-2011</td>\n",
       "    </tr>\n",
       "  </tbody>\n",
       "</table>\n",
       "</div>"
      ],
      "text/plain": [
       "  Client Category Solution Type  Deal Date     Sector Location      VP Name  \\\n",
       "0         Telecom    Solution 7 2012-03-27  Sector 24       L5  Ekta Zutshi   \n",
       "1         Telecom    Solution 7 2012-09-25  Sector 24       L5  Ekta Zutshi   \n",
       "2        Internal   Solution 59 2011-08-01  Sector 20   Others  Ekta Zutshi   \n",
       "\n",
       "      Manager Name  Deal Cost Deal Status Code  Deal_Status Cost_Range  \\\n",
       "0  Gopa Trilochana   0.004072              Won            1        Low   \n",
       "1  Gopa Trilochana   0.020248              Won            1        Low   \n",
       "2   Russell Dahlen   0.001624             Lost            0        Low   \n",
       "\n",
       "  Deal_Year Deal_Month      Year_Month  \n",
       "0      2012      March      March-2012  \n",
       "1      2012  September  September-2012  \n",
       "2      2011     August     August-2011  "
      ]
     },
     "execution_count": 181,
     "metadata": {},
     "output_type": "execute_result"
    }
   ],
   "source": [
    "# Combining Year and Month\n",
    "df['Deal_Year'] = df['Deal_Year'].astype(str)\n",
    "df['Deal_Month'] = df['Deal Date'].dt.month_name()\n",
    "df['Year_Month'] = df['Deal_Month'] + \"-\" + df['Deal_Year']\n",
    "df.head(3)"
   ]
  },
  {
   "cell_type": "code",
   "execution_count": 182,
   "metadata": {},
   "outputs": [
    {
     "data": {
      "text/html": [
       "<div>\n",
       "<style scoped>\n",
       "    .dataframe tbody tr th:only-of-type {\n",
       "        vertical-align: middle;\n",
       "    }\n",
       "\n",
       "    .dataframe tbody tr th {\n",
       "        vertical-align: top;\n",
       "    }\n",
       "\n",
       "    .dataframe thead th {\n",
       "        text-align: right;\n",
       "    }\n",
       "</style>\n",
       "<table border=\"1\" class=\"dataframe\">\n",
       "  <thead>\n",
       "    <tr style=\"text-align: right;\">\n",
       "      <th></th>\n",
       "      <th>Client Category</th>\n",
       "      <th>Solution Type</th>\n",
       "      <th>Deal Date</th>\n",
       "      <th>Sector</th>\n",
       "      <th>Location</th>\n",
       "      <th>VP Name</th>\n",
       "      <th>Manager Name</th>\n",
       "      <th>Deal Cost</th>\n",
       "      <th>Deal Status Code</th>\n",
       "      <th>Deal_Status</th>\n",
       "      <th>Cost_Range</th>\n",
       "      <th>Deal_Year</th>\n",
       "      <th>Deal_Month</th>\n",
       "      <th>Year_Month</th>\n",
       "      <th>VP Name and Manager</th>\n",
       "    </tr>\n",
       "  </thead>\n",
       "  <tbody>\n",
       "    <tr>\n",
       "      <td>0</td>\n",
       "      <td>Telecom</td>\n",
       "      <td>Solution 7</td>\n",
       "      <td>2012-03-27</td>\n",
       "      <td>Sector 24</td>\n",
       "      <td>L5</td>\n",
       "      <td>Ekta Zutshi</td>\n",
       "      <td>Gopa Trilochana</td>\n",
       "      <td>0.004072</td>\n",
       "      <td>Won</td>\n",
       "      <td>1</td>\n",
       "      <td>Low</td>\n",
       "      <td>2012</td>\n",
       "      <td>March</td>\n",
       "      <td>March-2012</td>\n",
       "      <td>Ekta Zutshi &amp; Gopa Trilochana</td>\n",
       "    </tr>\n",
       "    <tr>\n",
       "      <td>1</td>\n",
       "      <td>Telecom</td>\n",
       "      <td>Solution 7</td>\n",
       "      <td>2012-09-25</td>\n",
       "      <td>Sector 24</td>\n",
       "      <td>L5</td>\n",
       "      <td>Ekta Zutshi</td>\n",
       "      <td>Gopa Trilochana</td>\n",
       "      <td>0.020248</td>\n",
       "      <td>Won</td>\n",
       "      <td>1</td>\n",
       "      <td>Low</td>\n",
       "      <td>2012</td>\n",
       "      <td>September</td>\n",
       "      <td>September-2012</td>\n",
       "      <td>Ekta Zutshi &amp; Gopa Trilochana</td>\n",
       "    </tr>\n",
       "    <tr>\n",
       "      <td>2</td>\n",
       "      <td>Internal</td>\n",
       "      <td>Solution 59</td>\n",
       "      <td>2011-08-01</td>\n",
       "      <td>Sector 20</td>\n",
       "      <td>Others</td>\n",
       "      <td>Ekta Zutshi</td>\n",
       "      <td>Russell Dahlen</td>\n",
       "      <td>0.001624</td>\n",
       "      <td>Lost</td>\n",
       "      <td>0</td>\n",
       "      <td>Low</td>\n",
       "      <td>2011</td>\n",
       "      <td>August</td>\n",
       "      <td>August-2011</td>\n",
       "      <td>Ekta Zutshi &amp; Russell Dahlen</td>\n",
       "    </tr>\n",
       "  </tbody>\n",
       "</table>\n",
       "</div>"
      ],
      "text/plain": [
       "  Client Category Solution Type  Deal Date     Sector Location      VP Name  \\\n",
       "0         Telecom    Solution 7 2012-03-27  Sector 24       L5  Ekta Zutshi   \n",
       "1         Telecom    Solution 7 2012-09-25  Sector 24       L5  Ekta Zutshi   \n",
       "2        Internal   Solution 59 2011-08-01  Sector 20   Others  Ekta Zutshi   \n",
       "\n",
       "      Manager Name  Deal Cost Deal Status Code  Deal_Status Cost_Range  \\\n",
       "0  Gopa Trilochana   0.004072              Won            1        Low   \n",
       "1  Gopa Trilochana   0.020248              Won            1        Low   \n",
       "2   Russell Dahlen   0.001624             Lost            0        Low   \n",
       "\n",
       "  Deal_Year Deal_Month      Year_Month            VP Name and Manager  \n",
       "0      2012      March      March-2012  Ekta Zutshi & Gopa Trilochana  \n",
       "1      2012  September  September-2012  Ekta Zutshi & Gopa Trilochana  \n",
       "2      2011     August     August-2011   Ekta Zutshi & Russell Dahlen  "
      ]
     },
     "execution_count": 182,
     "metadata": {},
     "output_type": "execute_result"
    }
   ],
   "source": [
    "# Combining VP Name and Manager\n",
    "df['VP Name and Manager'] = df['VP Name'] + ' & '+ df['Manager Name']\n",
    "df.head(3)"
   ]
  },
  {
   "cell_type": "code",
   "execution_count": 183,
   "metadata": {},
   "outputs": [
    {
     "data": {
      "text/plain": [
       "(3751, 15)"
      ]
     },
     "execution_count": 183,
     "metadata": {},
     "output_type": "execute_result"
    }
   ],
   "source": [
    "# Subsetting categorical data\n",
    "df_wins = df[df['Deal Status Code']== \"Won\"]\n",
    "df_wins.shape"
   ]
  },
  {
   "cell_type": "code",
   "execution_count": 184,
   "metadata": {},
   "outputs": [
    {
     "data": {
      "text/html": [
       "<div>\n",
       "<style scoped>\n",
       "    .dataframe tbody tr th:only-of-type {\n",
       "        vertical-align: middle;\n",
       "    }\n",
       "\n",
       "    .dataframe tbody tr th {\n",
       "        vertical-align: top;\n",
       "    }\n",
       "\n",
       "    .dataframe thead th {\n",
       "        text-align: right;\n",
       "    }\n",
       "</style>\n",
       "<table border=\"1\" class=\"dataframe\">\n",
       "  <thead>\n",
       "    <tr style=\"text-align: right;\">\n",
       "      <th></th>\n",
       "      <th>Client Category</th>\n",
       "      <th>Solution Type</th>\n",
       "      <th>Deal Date</th>\n",
       "      <th>Sector</th>\n",
       "      <th>Location</th>\n",
       "      <th>VP Name</th>\n",
       "      <th>Manager Name</th>\n",
       "      <th>Deal Cost</th>\n",
       "      <th>Deal Status Code</th>\n",
       "      <th>Deal_Status</th>\n",
       "      <th>Cost_Range</th>\n",
       "      <th>Deal_Year</th>\n",
       "      <th>Deal_Month</th>\n",
       "      <th>Year_Month</th>\n",
       "      <th>VP Name and Manager</th>\n",
       "    </tr>\n",
       "  </thead>\n",
       "  <tbody>\n",
       "    <tr>\n",
       "      <td>0</td>\n",
       "      <td>Telecom</td>\n",
       "      <td>Solution 7</td>\n",
       "      <td>2012-03-27</td>\n",
       "      <td>Sector 24</td>\n",
       "      <td>L5</td>\n",
       "      <td>Ekta Zutshi</td>\n",
       "      <td>Gopa Trilochana</td>\n",
       "      <td>0.004072</td>\n",
       "      <td>Won</td>\n",
       "      <td>1</td>\n",
       "      <td>Low</td>\n",
       "      <td>2012</td>\n",
       "      <td>March</td>\n",
       "      <td>March-2012</td>\n",
       "      <td>Ekta Zutshi &amp; Gopa Trilochana</td>\n",
       "    </tr>\n",
       "    <tr>\n",
       "      <td>1</td>\n",
       "      <td>Telecom</td>\n",
       "      <td>Solution 7</td>\n",
       "      <td>2012-09-25</td>\n",
       "      <td>Sector 24</td>\n",
       "      <td>L5</td>\n",
       "      <td>Ekta Zutshi</td>\n",
       "      <td>Gopa Trilochana</td>\n",
       "      <td>0.020248</td>\n",
       "      <td>Won</td>\n",
       "      <td>1</td>\n",
       "      <td>Low</td>\n",
       "      <td>2012</td>\n",
       "      <td>September</td>\n",
       "      <td>September-2012</td>\n",
       "      <td>Ekta Zutshi &amp; Gopa Trilochana</td>\n",
       "    </tr>\n",
       "    <tr>\n",
       "      <td>6</td>\n",
       "      <td>Internal</td>\n",
       "      <td>Solution 59</td>\n",
       "      <td>2011-11-03</td>\n",
       "      <td>Sector 2</td>\n",
       "      <td>L10</td>\n",
       "      <td>Mervin Harwood</td>\n",
       "      <td>rahul sharma</td>\n",
       "      <td>0.014304</td>\n",
       "      <td>Won</td>\n",
       "      <td>1</td>\n",
       "      <td>Low</td>\n",
       "      <td>2011</td>\n",
       "      <td>November</td>\n",
       "      <td>November-2011</td>\n",
       "      <td>Mervin Harwood &amp; rahul sharma</td>\n",
       "    </tr>\n",
       "  </tbody>\n",
       "</table>\n",
       "</div>"
      ],
      "text/plain": [
       "  Client Category Solution Type  Deal Date     Sector Location  \\\n",
       "0         Telecom    Solution 7 2012-03-27  Sector 24       L5   \n",
       "1         Telecom    Solution 7 2012-09-25  Sector 24       L5   \n",
       "6        Internal   Solution 59 2011-11-03   Sector 2      L10   \n",
       "\n",
       "          VP Name     Manager Name  Deal Cost Deal Status Code  Deal_Status  \\\n",
       "0     Ekta Zutshi  Gopa Trilochana   0.004072              Won            1   \n",
       "1     Ekta Zutshi  Gopa Trilochana   0.020248              Won            1   \n",
       "6  Mervin Harwood     rahul sharma   0.014304              Won            1   \n",
       "\n",
       "  Cost_Range Deal_Year Deal_Month      Year_Month  \\\n",
       "0        Low      2012      March      March-2012   \n",
       "1        Low      2012  September  September-2012   \n",
       "6        Low      2011   November   November-2011   \n",
       "\n",
       "             VP Name and Manager  \n",
       "0  Ekta Zutshi & Gopa Trilochana  \n",
       "1  Ekta Zutshi & Gopa Trilochana  \n",
       "6  Mervin Harwood & rahul sharma  "
      ]
     },
     "execution_count": 184,
     "metadata": {},
     "output_type": "execute_result"
    }
   ],
   "source": [
    "df_wins.head(3)"
   ]
  },
  {
   "cell_type": "code",
   "execution_count": 185,
   "metadata": {},
   "outputs": [
    {
     "data": {
      "text/plain": [
       "range(0, 1)"
      ]
     },
     "execution_count": 185,
     "metadata": {},
     "output_type": "execute_result"
    }
   ],
   "source": [
    "range(int(min(df['Deal Cost'])),int(max(df['Deal Cost'])))"
   ]
  },
  {
   "cell_type": "code",
   "execution_count": 186,
   "metadata": {},
   "outputs": [
    {
     "data": {
      "text/plain": [
       "(1602, 12)"
      ]
     },
     "execution_count": 186,
     "metadata": {},
     "output_type": "execute_result"
    }
   ],
   "source": [
    "df_2016_wins = df_2016[df_2016['Deal Status Code']== \"Won\"]\n",
    "df_2016_wins.shape"
   ]
  },
  {
   "cell_type": "code",
   "execution_count": 187,
   "metadata": {},
   "outputs": [
    {
     "data": {
      "text/html": [
       "<div>\n",
       "<style scoped>\n",
       "    .dataframe tbody tr th:only-of-type {\n",
       "        vertical-align: middle;\n",
       "    }\n",
       "\n",
       "    .dataframe tbody tr th {\n",
       "        vertical-align: top;\n",
       "    }\n",
       "\n",
       "    .dataframe thead th {\n",
       "        text-align: right;\n",
       "    }\n",
       "</style>\n",
       "<table border=\"1\" class=\"dataframe\">\n",
       "  <thead>\n",
       "    <tr style=\"text-align: right;\">\n",
       "      <th></th>\n",
       "      <th>Client Category</th>\n",
       "      <th>Solution Type</th>\n",
       "      <th>Deal Date</th>\n",
       "      <th>Sector</th>\n",
       "      <th>Location</th>\n",
       "      <th>VP Name</th>\n",
       "      <th>Manager Name</th>\n",
       "      <th>Deal Cost</th>\n",
       "      <th>Deal Status Code</th>\n",
       "      <th>Deal_Status</th>\n",
       "      <th>Cost_Range</th>\n",
       "      <th>Deal_Year</th>\n",
       "      <th>Deal_Month</th>\n",
       "      <th>Year_Month</th>\n",
       "      <th>VP Name and Manager</th>\n",
       "    </tr>\n",
       "  </thead>\n",
       "  <tbody>\n",
       "    <tr>\n",
       "      <td>0</td>\n",
       "      <td>Telecom</td>\n",
       "      <td>Solution 7</td>\n",
       "      <td>2012-03-27</td>\n",
       "      <td>Sector 24</td>\n",
       "      <td>L5</td>\n",
       "      <td>Ekta Zutshi</td>\n",
       "      <td>Gopa Trilochana</td>\n",
       "      <td>0.004072</td>\n",
       "      <td>Won</td>\n",
       "      <td>1</td>\n",
       "      <td>Low</td>\n",
       "      <td>2012</td>\n",
       "      <td>March</td>\n",
       "      <td>March-2012</td>\n",
       "      <td>Ekta Zutshi &amp; Gopa Trilochana</td>\n",
       "    </tr>\n",
       "    <tr>\n",
       "      <td>1</td>\n",
       "      <td>Telecom</td>\n",
       "      <td>Solution 7</td>\n",
       "      <td>2012-09-25</td>\n",
       "      <td>Sector 24</td>\n",
       "      <td>L5</td>\n",
       "      <td>Ekta Zutshi</td>\n",
       "      <td>Gopa Trilochana</td>\n",
       "      <td>0.020248</td>\n",
       "      <td>Won</td>\n",
       "      <td>1</td>\n",
       "      <td>Low</td>\n",
       "      <td>2012</td>\n",
       "      <td>September</td>\n",
       "      <td>September-2012</td>\n",
       "      <td>Ekta Zutshi &amp; Gopa Trilochana</td>\n",
       "    </tr>\n",
       "    <tr>\n",
       "      <td>6</td>\n",
       "      <td>Internal</td>\n",
       "      <td>Solution 59</td>\n",
       "      <td>2011-11-03</td>\n",
       "      <td>Sector 2</td>\n",
       "      <td>L10</td>\n",
       "      <td>Mervin Harwood</td>\n",
       "      <td>rahul sharma</td>\n",
       "      <td>0.014304</td>\n",
       "      <td>Won</td>\n",
       "      <td>1</td>\n",
       "      <td>Low</td>\n",
       "      <td>2011</td>\n",
       "      <td>November</td>\n",
       "      <td>November-2011</td>\n",
       "      <td>Mervin Harwood &amp; rahul sharma</td>\n",
       "    </tr>\n",
       "  </tbody>\n",
       "</table>\n",
       "</div>"
      ],
      "text/plain": [
       "  Client Category Solution Type  Deal Date     Sector Location  \\\n",
       "0         Telecom    Solution 7 2012-03-27  Sector 24       L5   \n",
       "1         Telecom    Solution 7 2012-09-25  Sector 24       L5   \n",
       "6        Internal   Solution 59 2011-11-03   Sector 2      L10   \n",
       "\n",
       "          VP Name     Manager Name  Deal Cost Deal Status Code  Deal_Status  \\\n",
       "0     Ekta Zutshi  Gopa Trilochana   0.004072              Won            1   \n",
       "1     Ekta Zutshi  Gopa Trilochana   0.020248              Won            1   \n",
       "6  Mervin Harwood     rahul sharma   0.014304              Won            1   \n",
       "\n",
       "  Cost_Range Deal_Year Deal_Month      Year_Month  \\\n",
       "0        Low      2012      March      March-2012   \n",
       "1        Low      2012  September  September-2012   \n",
       "6        Low      2011   November   November-2011   \n",
       "\n",
       "             VP Name and Manager  \n",
       "0  Ekta Zutshi & Gopa Trilochana  \n",
       "1  Ekta Zutshi & Gopa Trilochana  \n",
       "6  Mervin Harwood & rahul sharma  "
      ]
     },
     "execution_count": 187,
     "metadata": {},
     "output_type": "execute_result"
    }
   ],
   "source": [
    "df_wins.head(3)"
   ]
  },
  {
   "cell_type": "code",
   "execution_count": 188,
   "metadata": {},
   "outputs": [],
   "source": [
    "# Dataframe of \n",
    "\n",
    "def top_dealcost(x,y,n=5):\n",
    "    df_topcount = df_wins.groupby([x,y])['Deal Cost','Deal_Status'].sum().sort_values(by='Deal Cost',ascending = False).head(n)\n",
    "    df_topcount['Deal Cost'] = (df_topcount['Deal Cost']).round(2)\n",
    "    return pd.DataFrame(df_topcount)"
   ]
  },
  {
   "cell_type": "code",
   "execution_count": 189,
   "metadata": {},
   "outputs": [],
   "source": [
    "top_dealcost = pd.DataFrame(top_dealcost('VP Name','Manager Name'))\n"
   ]
  },
  {
   "cell_type": "code",
   "execution_count": 190,
   "metadata": {},
   "outputs": [],
   "source": [
    "top_dealcost = scaler.inverse_transform(top_dealcost[['Deal Cost']])"
   ]
  },
  {
   "cell_type": "code",
   "execution_count": 191,
   "metadata": {},
   "outputs": [],
   "source": [
    "top_dealcost = top_dealcost/1000000"
   ]
  },
  {
   "cell_type": "code",
   "execution_count": 192,
   "metadata": {},
   "outputs": [
    {
     "data": {
      "text/plain": [
       "array([[94.85247646],\n",
       "       [76.47027058],\n",
       "       [69.85267646],\n",
       "       [63.23508235],\n",
       "       [58.45570882]])"
      ]
     },
     "execution_count": 192,
     "metadata": {},
     "output_type": "execute_result"
    }
   ],
   "source": [
    "top_dealcost"
   ]
  },
  {
   "cell_type": "code",
   "execution_count": 193,
   "metadata": {},
   "outputs": [],
   "source": [
    "df['Deal Cost'] = scaler.inverse_transform(df[['Deal Cost']])"
   ]
  },
  {
   "cell_type": "code",
   "execution_count": 194,
   "metadata": {},
   "outputs": [],
   "source": [
    "df['Deal Cost'] = df['Deal Cost']/1000000"
   ]
  },
  {
   "cell_type": "code",
   "execution_count": 195,
   "metadata": {},
   "outputs": [
    {
     "data": {
      "text/html": [
       "<div>\n",
       "<style scoped>\n",
       "    .dataframe tbody tr th:only-of-type {\n",
       "        vertical-align: middle;\n",
       "    }\n",
       "\n",
       "    .dataframe tbody tr th {\n",
       "        vertical-align: top;\n",
       "    }\n",
       "\n",
       "    .dataframe thead th {\n",
       "        text-align: right;\n",
       "    }\n",
       "</style>\n",
       "<table border=\"1\" class=\"dataframe\">\n",
       "  <thead>\n",
       "    <tr style=\"text-align: right;\">\n",
       "      <th></th>\n",
       "      <th>Client Category</th>\n",
       "      <th>Solution Type</th>\n",
       "      <th>Deal Date</th>\n",
       "      <th>Sector</th>\n",
       "      <th>Location</th>\n",
       "      <th>VP Name</th>\n",
       "      <th>Manager Name</th>\n",
       "      <th>Deal Cost</th>\n",
       "      <th>Deal Status Code</th>\n",
       "      <th>Deal_Status</th>\n",
       "      <th>Cost_Range</th>\n",
       "      <th>Deal_Year</th>\n",
       "      <th>Deal_Month</th>\n",
       "      <th>Year_Month</th>\n",
       "      <th>VP Name and Manager</th>\n",
       "    </tr>\n",
       "  </thead>\n",
       "  <tbody>\n",
       "    <tr>\n",
       "      <td>0</td>\n",
       "      <td>Telecom</td>\n",
       "      <td>Solution 7</td>\n",
       "      <td>2012-03-27</td>\n",
       "      <td>Sector 24</td>\n",
       "      <td>L5</td>\n",
       "      <td>Ekta Zutshi</td>\n",
       "      <td>Gopa Trilochana</td>\n",
       "      <td>0.150000</td>\n",
       "      <td>Won</td>\n",
       "      <td>1</td>\n",
       "      <td>Low</td>\n",
       "      <td>2012</td>\n",
       "      <td>March</td>\n",
       "      <td>March-2012</td>\n",
       "      <td>Ekta Zutshi &amp; Gopa Trilochana</td>\n",
       "    </tr>\n",
       "    <tr>\n",
       "      <td>1</td>\n",
       "      <td>Telecom</td>\n",
       "      <td>Solution 7</td>\n",
       "      <td>2012-09-25</td>\n",
       "      <td>Sector 24</td>\n",
       "      <td>L5</td>\n",
       "      <td>Ekta Zutshi</td>\n",
       "      <td>Gopa Trilochana</td>\n",
       "      <td>0.744706</td>\n",
       "      <td>Won</td>\n",
       "      <td>1</td>\n",
       "      <td>Low</td>\n",
       "      <td>2012</td>\n",
       "      <td>September</td>\n",
       "      <td>September-2012</td>\n",
       "      <td>Ekta Zutshi &amp; Gopa Trilochana</td>\n",
       "    </tr>\n",
       "    <tr>\n",
       "      <td>2</td>\n",
       "      <td>Internal</td>\n",
       "      <td>Solution 59</td>\n",
       "      <td>2011-08-01</td>\n",
       "      <td>Sector 20</td>\n",
       "      <td>Others</td>\n",
       "      <td>Ekta Zutshi</td>\n",
       "      <td>Russell Dahlen</td>\n",
       "      <td>0.060000</td>\n",
       "      <td>Lost</td>\n",
       "      <td>0</td>\n",
       "      <td>Low</td>\n",
       "      <td>2011</td>\n",
       "      <td>August</td>\n",
       "      <td>August-2011</td>\n",
       "      <td>Ekta Zutshi &amp; Russell Dahlen</td>\n",
       "    </tr>\n",
       "    <tr>\n",
       "      <td>3</td>\n",
       "      <td>Internal</td>\n",
       "      <td>Solution 59</td>\n",
       "      <td>2011-04-28</td>\n",
       "      <td>Sector 20</td>\n",
       "      <td>Others</td>\n",
       "      <td>Ekta Zutshi</td>\n",
       "      <td>Russell Dahlen</td>\n",
       "      <td>0.060000</td>\n",
       "      <td>Lost</td>\n",
       "      <td>0</td>\n",
       "      <td>Low</td>\n",
       "      <td>2011</td>\n",
       "      <td>April</td>\n",
       "      <td>April-2011</td>\n",
       "      <td>Ekta Zutshi &amp; Russell Dahlen</td>\n",
       "    </tr>\n",
       "    <tr>\n",
       "      <td>4</td>\n",
       "      <td>Internal</td>\n",
       "      <td>Solution 32</td>\n",
       "      <td>2011-06-03</td>\n",
       "      <td>Sector 20</td>\n",
       "      <td>Others</td>\n",
       "      <td>Ekta Zutshi</td>\n",
       "      <td>Russell Dahlen</td>\n",
       "      <td>0.080882</td>\n",
       "      <td>Lost</td>\n",
       "      <td>0</td>\n",
       "      <td>Low</td>\n",
       "      <td>2011</td>\n",
       "      <td>June</td>\n",
       "      <td>June-2011</td>\n",
       "      <td>Ekta Zutshi &amp; Russell Dahlen</td>\n",
       "    </tr>\n",
       "  </tbody>\n",
       "</table>\n",
       "</div>"
      ],
      "text/plain": [
       "  Client Category Solution Type  Deal Date     Sector Location      VP Name  \\\n",
       "0         Telecom    Solution 7 2012-03-27  Sector 24       L5  Ekta Zutshi   \n",
       "1         Telecom    Solution 7 2012-09-25  Sector 24       L5  Ekta Zutshi   \n",
       "2        Internal   Solution 59 2011-08-01  Sector 20   Others  Ekta Zutshi   \n",
       "3        Internal   Solution 59 2011-04-28  Sector 20   Others  Ekta Zutshi   \n",
       "4        Internal   Solution 32 2011-06-03  Sector 20   Others  Ekta Zutshi   \n",
       "\n",
       "      Manager Name  Deal Cost Deal Status Code  Deal_Status Cost_Range  \\\n",
       "0  Gopa Trilochana   0.150000              Won            1        Low   \n",
       "1  Gopa Trilochana   0.744706              Won            1        Low   \n",
       "2   Russell Dahlen   0.060000             Lost            0        Low   \n",
       "3   Russell Dahlen   0.060000             Lost            0        Low   \n",
       "4   Russell Dahlen   0.080882             Lost            0        Low   \n",
       "\n",
       "  Deal_Year Deal_Month      Year_Month            VP Name and Manager  \n",
       "0      2012      March      March-2012  Ekta Zutshi & Gopa Trilochana  \n",
       "1      2012  September  September-2012  Ekta Zutshi & Gopa Trilochana  \n",
       "2      2011     August     August-2011   Ekta Zutshi & Russell Dahlen  \n",
       "3      2011      April      April-2011   Ekta Zutshi & Russell Dahlen  \n",
       "4      2011       June       June-2011   Ekta Zutshi & Russell Dahlen  "
      ]
     },
     "execution_count": 195,
     "metadata": {},
     "output_type": "execute_result"
    }
   ],
   "source": [
    "df.head()"
   ]
  },
  {
   "cell_type": "markdown",
   "metadata": {},
   "source": [
    "## model building "
   ]
  },
  {
   "cell_type": "code",
   "execution_count": 197,
   "metadata": {},
   "outputs": [],
   "source": [
    "df.drop(['VP Name','Manager Name','Deal_Status','Cost_Range','Deal_Year','Deal_Month'], axis = 1, inplace = True)\n",
    "\n"
   ]
  },
  {
   "cell_type": "code",
   "execution_count": 198,
   "metadata": {},
   "outputs": [
    {
     "data": {
      "text/html": [
       "<div>\n",
       "<style scoped>\n",
       "    .dataframe tbody tr th:only-of-type {\n",
       "        vertical-align: middle;\n",
       "    }\n",
       "\n",
       "    .dataframe tbody tr th {\n",
       "        vertical-align: top;\n",
       "    }\n",
       "\n",
       "    .dataframe thead th {\n",
       "        text-align: right;\n",
       "    }\n",
       "</style>\n",
       "<table border=\"1\" class=\"dataframe\">\n",
       "  <thead>\n",
       "    <tr style=\"text-align: right;\">\n",
       "      <th></th>\n",
       "      <th>Client Category</th>\n",
       "      <th>Solution Type</th>\n",
       "      <th>Deal Date</th>\n",
       "      <th>Sector</th>\n",
       "      <th>Location</th>\n",
       "      <th>Deal Cost</th>\n",
       "      <th>Deal Status Code</th>\n",
       "      <th>Year_Month</th>\n",
       "      <th>VP Name and Manager</th>\n",
       "    </tr>\n",
       "  </thead>\n",
       "  <tbody>\n",
       "    <tr>\n",
       "      <td>0</td>\n",
       "      <td>Telecom</td>\n",
       "      <td>Solution 7</td>\n",
       "      <td>2012-03-27</td>\n",
       "      <td>Sector 24</td>\n",
       "      <td>L5</td>\n",
       "      <td>0.150000</td>\n",
       "      <td>Won</td>\n",
       "      <td>March-2012</td>\n",
       "      <td>Ekta Zutshi &amp; Gopa Trilochana</td>\n",
       "    </tr>\n",
       "    <tr>\n",
       "      <td>1</td>\n",
       "      <td>Telecom</td>\n",
       "      <td>Solution 7</td>\n",
       "      <td>2012-09-25</td>\n",
       "      <td>Sector 24</td>\n",
       "      <td>L5</td>\n",
       "      <td>0.744706</td>\n",
       "      <td>Won</td>\n",
       "      <td>September-2012</td>\n",
       "      <td>Ekta Zutshi &amp; Gopa Trilochana</td>\n",
       "    </tr>\n",
       "    <tr>\n",
       "      <td>2</td>\n",
       "      <td>Internal</td>\n",
       "      <td>Solution 59</td>\n",
       "      <td>2011-08-01</td>\n",
       "      <td>Sector 20</td>\n",
       "      <td>Others</td>\n",
       "      <td>0.060000</td>\n",
       "      <td>Lost</td>\n",
       "      <td>August-2011</td>\n",
       "      <td>Ekta Zutshi &amp; Russell Dahlen</td>\n",
       "    </tr>\n",
       "    <tr>\n",
       "      <td>3</td>\n",
       "      <td>Internal</td>\n",
       "      <td>Solution 59</td>\n",
       "      <td>2011-04-28</td>\n",
       "      <td>Sector 20</td>\n",
       "      <td>Others</td>\n",
       "      <td>0.060000</td>\n",
       "      <td>Lost</td>\n",
       "      <td>April-2011</td>\n",
       "      <td>Ekta Zutshi &amp; Russell Dahlen</td>\n",
       "    </tr>\n",
       "    <tr>\n",
       "      <td>4</td>\n",
       "      <td>Internal</td>\n",
       "      <td>Solution 32</td>\n",
       "      <td>2011-06-03</td>\n",
       "      <td>Sector 20</td>\n",
       "      <td>Others</td>\n",
       "      <td>0.080882</td>\n",
       "      <td>Lost</td>\n",
       "      <td>June-2011</td>\n",
       "      <td>Ekta Zutshi &amp; Russell Dahlen</td>\n",
       "    </tr>\n",
       "  </tbody>\n",
       "</table>\n",
       "</div>"
      ],
      "text/plain": [
       "  Client Category Solution Type  Deal Date     Sector Location  Deal Cost  \\\n",
       "0         Telecom    Solution 7 2012-03-27  Sector 24       L5   0.150000   \n",
       "1         Telecom    Solution 7 2012-09-25  Sector 24       L5   0.744706   \n",
       "2        Internal   Solution 59 2011-08-01  Sector 20   Others   0.060000   \n",
       "3        Internal   Solution 59 2011-04-28  Sector 20   Others   0.060000   \n",
       "4        Internal   Solution 32 2011-06-03  Sector 20   Others   0.080882   \n",
       "\n",
       "  Deal Status Code      Year_Month            VP Name and Manager  \n",
       "0              Won      March-2012  Ekta Zutshi & Gopa Trilochana  \n",
       "1              Won  September-2012  Ekta Zutshi & Gopa Trilochana  \n",
       "2             Lost     August-2011   Ekta Zutshi & Russell Dahlen  \n",
       "3             Lost      April-2011   Ekta Zutshi & Russell Dahlen  \n",
       "4             Lost       June-2011   Ekta Zutshi & Russell Dahlen  "
      ]
     },
     "execution_count": 198,
     "metadata": {},
     "output_type": "execute_result"
    }
   ],
   "source": [
    "df.head()"
   ]
  },
  {
   "cell_type": "markdown",
   "metadata": {},
   "source": [
    "### Frequency Encoding"
   ]
  },
  {
   "cell_type": "code",
   "execution_count": 200,
   "metadata": {},
   "outputs": [],
   "source": [
    "import warnings\n",
    "import datetime as dt\n",
    "warnings.filterwarnings('ignore')"
   ]
  },
  {
   "cell_type": "code",
   "execution_count": 201,
   "metadata": {},
   "outputs": [],
   "source": [
    "# Split data in X and Y\n",
    "X = df.drop('Deal Status Code', axis = 1)\n",
    "\n",
    "X['Deal Date'] = X['Deal Date'].map(dt.datetime.toordinal)\n",
    "Y = df['Deal Status Code']"
   ]
  },
  {
   "cell_type": "code",
   "execution_count": 202,
   "metadata": {},
   "outputs": [
    {
     "data": {
      "text/html": [
       "<div>\n",
       "<style scoped>\n",
       "    .dataframe tbody tr th:only-of-type {\n",
       "        vertical-align: middle;\n",
       "    }\n",
       "\n",
       "    .dataframe tbody tr th {\n",
       "        vertical-align: top;\n",
       "    }\n",
       "\n",
       "    .dataframe thead th {\n",
       "        text-align: right;\n",
       "    }\n",
       "</style>\n",
       "<table border=\"1\" class=\"dataframe\">\n",
       "  <thead>\n",
       "    <tr style=\"text-align: right;\">\n",
       "      <th></th>\n",
       "      <th>Client Category</th>\n",
       "      <th>Solution Type</th>\n",
       "      <th>Deal Date</th>\n",
       "      <th>Sector</th>\n",
       "      <th>Location</th>\n",
       "      <th>Deal Cost</th>\n",
       "      <th>Year_Month</th>\n",
       "      <th>VP Name and Manager</th>\n",
       "    </tr>\n",
       "  </thead>\n",
       "  <tbody>\n",
       "    <tr>\n",
       "      <td>0</td>\n",
       "      <td>Telecom</td>\n",
       "      <td>Solution 7</td>\n",
       "      <td>734589</td>\n",
       "      <td>Sector 24</td>\n",
       "      <td>L5</td>\n",
       "      <td>0.150000</td>\n",
       "      <td>March-2012</td>\n",
       "      <td>Ekta Zutshi &amp; Gopa Trilochana</td>\n",
       "    </tr>\n",
       "    <tr>\n",
       "      <td>1</td>\n",
       "      <td>Telecom</td>\n",
       "      <td>Solution 7</td>\n",
       "      <td>734771</td>\n",
       "      <td>Sector 24</td>\n",
       "      <td>L5</td>\n",
       "      <td>0.744706</td>\n",
       "      <td>September-2012</td>\n",
       "      <td>Ekta Zutshi &amp; Gopa Trilochana</td>\n",
       "    </tr>\n",
       "    <tr>\n",
       "      <td>2</td>\n",
       "      <td>Internal</td>\n",
       "      <td>Solution 59</td>\n",
       "      <td>734350</td>\n",
       "      <td>Sector 20</td>\n",
       "      <td>Others</td>\n",
       "      <td>0.060000</td>\n",
       "      <td>August-2011</td>\n",
       "      <td>Ekta Zutshi &amp; Russell Dahlen</td>\n",
       "    </tr>\n",
       "  </tbody>\n",
       "</table>\n",
       "</div>"
      ],
      "text/plain": [
       "  Client Category Solution Type  Deal Date     Sector Location  Deal Cost  \\\n",
       "0         Telecom    Solution 7     734589  Sector 24       L5   0.150000   \n",
       "1         Telecom    Solution 7     734771  Sector 24       L5   0.744706   \n",
       "2        Internal   Solution 59     734350  Sector 20   Others   0.060000   \n",
       "\n",
       "       Year_Month            VP Name and Manager  \n",
       "0      March-2012  Ekta Zutshi & Gopa Trilochana  \n",
       "1  September-2012  Ekta Zutshi & Gopa Trilochana  \n",
       "2     August-2011   Ekta Zutshi & Russell Dahlen  "
      ]
     },
     "execution_count": 202,
     "metadata": {},
     "output_type": "execute_result"
    }
   ],
   "source": [
    "X.head(3)"
   ]
  },
  {
   "cell_type": "code",
   "execution_count": 203,
   "metadata": {},
   "outputs": [
    {
     "data": {
      "text/plain": [
       "0     Won\n",
       "1     Won\n",
       "2    Lost\n",
       "Name: Deal Status Code, dtype: object"
      ]
     },
     "execution_count": 203,
     "metadata": {},
     "output_type": "execute_result"
    }
   ],
   "source": [
    "Y.head(3)"
   ]
  },
  {
   "cell_type": "code",
   "execution_count": 204,
   "metadata": {},
   "outputs": [
    {
     "data": {
      "text/html": [
       "<div>\n",
       "<style scoped>\n",
       "    .dataframe tbody tr th:only-of-type {\n",
       "        vertical-align: middle;\n",
       "    }\n",
       "\n",
       "    .dataframe tbody tr th {\n",
       "        vertical-align: top;\n",
       "    }\n",
       "\n",
       "    .dataframe thead th {\n",
       "        text-align: right;\n",
       "    }\n",
       "</style>\n",
       "<table border=\"1\" class=\"dataframe\">\n",
       "  <thead>\n",
       "    <tr style=\"text-align: right;\">\n",
       "      <th></th>\n",
       "      <th>Client Category</th>\n",
       "      <th>Solution Type</th>\n",
       "      <th>Deal Date</th>\n",
       "      <th>Sector</th>\n",
       "      <th>Location</th>\n",
       "      <th>Deal Cost</th>\n",
       "      <th>Year_Month</th>\n",
       "      <th>VP Name and Manager</th>\n",
       "    </tr>\n",
       "  </thead>\n",
       "  <tbody>\n",
       "    <tr>\n",
       "      <td>0</td>\n",
       "      <td>0.032646</td>\n",
       "      <td>0.018160</td>\n",
       "      <td>734589</td>\n",
       "      <td>0.057131</td>\n",
       "      <td>0.229443</td>\n",
       "      <td>0.150000</td>\n",
       "      <td>0.007141</td>\n",
       "      <td>0.003163</td>\n",
       "    </tr>\n",
       "    <tr>\n",
       "      <td>1</td>\n",
       "      <td>0.032646</td>\n",
       "      <td>0.018160</td>\n",
       "      <td>734771</td>\n",
       "      <td>0.057131</td>\n",
       "      <td>0.229443</td>\n",
       "      <td>0.744706</td>\n",
       "      <td>0.003469</td>\n",
       "      <td>0.003163</td>\n",
       "    </tr>\n",
       "    <tr>\n",
       "      <td>2</td>\n",
       "      <td>0.143950</td>\n",
       "      <td>0.043154</td>\n",
       "      <td>734350</td>\n",
       "      <td>0.074577</td>\n",
       "      <td>0.078555</td>\n",
       "      <td>0.060000</td>\n",
       "      <td>0.000102</td>\n",
       "      <td>0.000408</td>\n",
       "    </tr>\n",
       "    <tr>\n",
       "      <td>3</td>\n",
       "      <td>0.143950</td>\n",
       "      <td>0.043154</td>\n",
       "      <td>734255</td>\n",
       "      <td>0.074577</td>\n",
       "      <td>0.078555</td>\n",
       "      <td>0.060000</td>\n",
       "      <td>0.000204</td>\n",
       "      <td>0.000408</td>\n",
       "    </tr>\n",
       "    <tr>\n",
       "      <td>4</td>\n",
       "      <td>0.143950</td>\n",
       "      <td>0.144766</td>\n",
       "      <td>734291</td>\n",
       "      <td>0.074577</td>\n",
       "      <td>0.078555</td>\n",
       "      <td>0.080882</td>\n",
       "      <td>0.000102</td>\n",
       "      <td>0.000408</td>\n",
       "    </tr>\n",
       "  </tbody>\n",
       "</table>\n",
       "</div>"
      ],
      "text/plain": [
       "   Client Category  Solution Type  Deal Date    Sector  Location  Deal Cost  \\\n",
       "0         0.032646       0.018160     734589  0.057131  0.229443   0.150000   \n",
       "1         0.032646       0.018160     734771  0.057131  0.229443   0.744706   \n",
       "2         0.143950       0.043154     734350  0.074577  0.078555   0.060000   \n",
       "3         0.143950       0.043154     734255  0.074577  0.078555   0.060000   \n",
       "4         0.143950       0.144766     734291  0.074577  0.078555   0.080882   \n",
       "\n",
       "   Year_Month  VP Name and Manager  \n",
       "0    0.007141             0.003163  \n",
       "1    0.003469             0.003163  \n",
       "2    0.000102             0.000408  \n",
       "3    0.000204             0.000408  \n",
       "4    0.000102             0.000408  "
      ]
     },
     "execution_count": 204,
     "metadata": {},
     "output_type": "execute_result"
    }
   ],
   "source": [
    "########\n",
    "\n",
    "for col in X.select_dtypes(include = \"object\"):\n",
    "    freq_encode = (X.groupby(col).size())/len(X)\n",
    "    X[col] = X[col].map(freq_encode)\n",
    "X.head()"
   ]
  },
  {
   "cell_type": "code",
   "execution_count": 211,
   "metadata": {},
   "outputs": [
    {
     "data": {
      "text/plain": [
       "((7351, 8), (2451, 8), (7351,), (2451,))"
      ]
     },
     "execution_count": 211,
     "metadata": {},
     "output_type": "execute_result"
    }
   ],
   "source": [
    "# Train Test Split\n",
    "\n",
    "from sklearn.model_selection import train_test_split\n",
    "\n",
    "X_train, X_test, Y_train, Y_test = train_test_split(X,Y, random_state=0)\n",
    "\n",
    "X_train.shape, X_test.shape, Y_train.shape, Y_test.shape"
   ]
  },
  {
   "cell_type": "code",
   "execution_count": 212,
   "metadata": {},
   "outputs": [],
   "source": [
    "# find accuracy_score, confusion_matrix\n",
    "\n",
    "from sklearn.metrics import accuracy_score, confusion_matrix, classification_report, plot_confusion_matrix\n",
    "\n",
    "def algo(algorithm):\n",
    "    model = algorithm()\n",
    "    model.fit(X_train, Y_train)\n",
    "    predict = model.predict(X_test)\n",
    "    print('The accuracy of {} model is {}'.format(model, accuracy_score(Y_test, predict).round(2)))\n",
    "    print(\"\\n\")\n",
    "    print(\"CLASSIFICATION REPORT\",'\\n',classification_report(Y_test, predict),\"\\n\")\n",
    "    \n",
    "    print(\"CONFUSION MATRIX\",'\\n')\n",
    "    plot_confusion_matrix(model, X_test, Y_test, cmap = \"GnBu\")"
   ]
  },
  {
   "cell_type": "code",
   "execution_count": 213,
   "metadata": {},
   "outputs": [
    {
     "name": "stdout",
     "output_type": "stream",
     "text": [
      "The accuracy of DecisionTreeClassifier() model is 0.73\n",
      "\n",
      "\n",
      "CLASSIFICATION REPORT \n",
      "               precision    recall  f1-score   support\n",
      "\n",
      "        Lost       0.77      0.81      0.79      1537\n",
      "         Won       0.66      0.60      0.63       914\n",
      "\n",
      "    accuracy                           0.73      2451\n",
      "   macro avg       0.72      0.71      0.71      2451\n",
      "weighted avg       0.73      0.73      0.73      2451\n",
      " \n",
      "\n",
      "CONFUSION MATRIX \n",
      "\n"
     ]
    },
    {
     "data": {
      "image/png": "[encoded data removed]",
      "text/plain": [
       "<Figure size 432x288 with 2 Axes>"
      ]
     },
     "metadata": {
      "needs_background": "light"
     },
     "output_type": "display_data"
    }
   ],
   "source": [
    "from sklearn.tree import DecisionTreeClassifier\n",
    "algo(DecisionTreeClassifier)"
   ]
  },
  {
   "cell_type": "code",
   "execution_count": 214,
   "metadata": {},
   "outputs": [
    {
     "name": "stdout",
     "output_type": "stream",
     "text": [
      "The accuracy of RandomForestClassifier() model is 0.78\n",
      "\n",
      "\n",
      "CLASSIFICATION REPORT \n",
      "               precision    recall  f1-score   support\n",
      "\n",
      "        Lost       0.77      0.93      0.84      1537\n",
      "         Won       0.81      0.55      0.65       914\n",
      "\n",
      "    accuracy                           0.78      2451\n",
      "   macro avg       0.79      0.74      0.75      2451\n",
      "weighted avg       0.79      0.78      0.77      2451\n",
      " \n",
      "\n",
      "CONFUSION MATRIX \n",
      "\n"
     ]
    },
    {
     "data": {
      "image/png": "[encoded data removed]",
      "text/plain": [
       "<Figure size 432x288 with 2 Axes>"
      ]
     },
     "metadata": {
      "needs_background": "light"
     },
     "output_type": "display_data"
    }
   ],
   "source": [
    "from sklearn.ensemble import RandomForestClassifier\n",
    "algo(RandomForestClassifier)"
   ]
  },
  {
   "cell_type": "markdown",
   "metadata": {},
   "source": [
    "## For every False Prediction the loss the company will face\n",
    "\n",
    "if actual is won, but predicted is loss, then company will lose that deal amount."
   ]
  },
  {
   "cell_type": "code",
   "execution_count": 215,
   "metadata": {},
   "outputs": [],
   "source": [
    "model = RandomForestClassifier()\n",
    "model.fit(X_train,Y_train)\n",
    "preds = model.predict(X_test)"
   ]
  },
  {
   "cell_type": "code",
   "execution_count": 219,
   "metadata": {},
   "outputs": [
    {
     "data": {
      "text/plain": [
       "0.7878416972664218"
      ]
     },
     "execution_count": 219,
     "metadata": {},
     "output_type": "execute_result"
    }
   ],
   "source": [
    "model.score(X_test,Y_test)"
   ]
  },
  {
   "cell_type": "code",
   "execution_count": 216,
   "metadata": {},
   "outputs": [],
   "source": [
    "preds = pd.Series(preds, name = \"Prediction\")\n",
    "df_results = pd.concat([X_test, y_test], axis = 1).reset_index()\n",
    "df_results = pd.concat([df_results,preds],axis = 1)"
   ]
  },
  {
   "cell_type": "code",
   "execution_count": 220,
   "metadata": {},
   "outputs": [
    {
     "data": {
      "text/html": [
       "<div>\n",
       "<style scoped>\n",
       "    .dataframe tbody tr th:only-of-type {\n",
       "        vertical-align: middle;\n",
       "    }\n",
       "\n",
       "    .dataframe tbody tr th {\n",
       "        vertical-align: top;\n",
       "    }\n",
       "\n",
       "    .dataframe thead th {\n",
       "        text-align: right;\n",
       "    }\n",
       "</style>\n",
       "<table border=\"1\" class=\"dataframe\">\n",
       "  <thead>\n",
       "    <tr style=\"text-align: right;\">\n",
       "      <th></th>\n",
       "      <th>index</th>\n",
       "      <th>Client Category</th>\n",
       "      <th>Solution Type</th>\n",
       "      <th>Deal Date</th>\n",
       "      <th>Sector</th>\n",
       "      <th>Location</th>\n",
       "      <th>Deal Cost</th>\n",
       "      <th>Year_Month</th>\n",
       "      <th>VP Name and Manager</th>\n",
       "      <th>Deal Status Code</th>\n",
       "      <th>Prediction</th>\n",
       "    </tr>\n",
       "  </thead>\n",
       "  <tbody>\n",
       "    <tr>\n",
       "      <td>0</td>\n",
       "      <td>6755</td>\n",
       "      <td>0.120180</td>\n",
       "      <td>0.144766</td>\n",
       "      <td>736570</td>\n",
       "      <td>0.268823</td>\n",
       "      <td>0.229443</td>\n",
       "      <td>0.286765</td>\n",
       "      <td>0.014385</td>\n",
       "      <td>0.001428</td>\n",
       "      <td>Lost</td>\n",
       "      <td>Lost</td>\n",
       "    </tr>\n",
       "    <tr>\n",
       "      <td>1</td>\n",
       "      <td>3008</td>\n",
       "      <td>0.041318</td>\n",
       "      <td>0.144766</td>\n",
       "      <td>735770</td>\n",
       "      <td>0.173536</td>\n",
       "      <td>0.055703</td>\n",
       "      <td>0.735294</td>\n",
       "      <td>0.011528</td>\n",
       "      <td>0.003571</td>\n",
       "      <td>Lost</td>\n",
       "      <td>Won</td>\n",
       "    </tr>\n",
       "    <tr>\n",
       "      <td>2</td>\n",
       "      <td>4813</td>\n",
       "      <td>0.011936</td>\n",
       "      <td>0.043971</td>\n",
       "      <td>737063</td>\n",
       "      <td>0.027443</td>\n",
       "      <td>0.333503</td>\n",
       "      <td>0.176471</td>\n",
       "      <td>0.010916</td>\n",
       "      <td>0.004285</td>\n",
       "      <td>Lost</td>\n",
       "      <td>Lost</td>\n",
       "    </tr>\n",
       "  </tbody>\n",
       "</table>\n",
       "</div>"
      ],
      "text/plain": [
       "   index  Client Category  Solution Type  Deal Date    Sector  Location  \\\n",
       "0   6755         0.120180       0.144766     736570  0.268823  0.229443   \n",
       "1   3008         0.041318       0.144766     735770  0.173536  0.055703   \n",
       "2   4813         0.011936       0.043971     737063  0.027443  0.333503   \n",
       "\n",
       "   Deal Cost  Year_Month  VP Name and Manager Deal Status Code Prediction  \n",
       "0   0.286765    0.014385             0.001428             Lost       Lost  \n",
       "1   0.735294    0.011528             0.003571             Lost        Won  \n",
       "2   0.176471    0.010916             0.004285             Lost       Lost  "
      ]
     },
     "execution_count": 220,
     "metadata": {},
     "output_type": "execute_result"
    }
   ],
   "source": [
    "df_results.head(3)"
   ]
  },
  {
   "cell_type": "code",
   "execution_count": 222,
   "metadata": {},
   "outputs": [
    {
     "data": {
      "text/html": [
       "<div>\n",
       "<style scoped>\n",
       "    .dataframe tbody tr th:only-of-type {\n",
       "        vertical-align: middle;\n",
       "    }\n",
       "\n",
       "    .dataframe tbody tr th {\n",
       "        vertical-align: top;\n",
       "    }\n",
       "\n",
       "    .dataframe thead th {\n",
       "        text-align: right;\n",
       "    }\n",
       "</style>\n",
       "<table border=\"1\" class=\"dataframe\">\n",
       "  <thead>\n",
       "    <tr style=\"text-align: right;\">\n",
       "      <th></th>\n",
       "      <th>index</th>\n",
       "      <th>Client Category</th>\n",
       "      <th>Solution Type</th>\n",
       "      <th>Deal Date</th>\n",
       "      <th>Sector</th>\n",
       "      <th>Location</th>\n",
       "      <th>Deal Cost</th>\n",
       "      <th>Year_Month</th>\n",
       "      <th>VP Name and Manager</th>\n",
       "      <th>Deal Status Code</th>\n",
       "      <th>Prediction</th>\n",
       "    </tr>\n",
       "  </thead>\n",
       "  <tbody>\n",
       "    <tr>\n",
       "      <td>7</td>\n",
       "      <td>3592</td>\n",
       "      <td>0.015405</td>\n",
       "      <td>0.014079</td>\n",
       "      <td>736559</td>\n",
       "      <td>0.027443</td>\n",
       "      <td>0.333503</td>\n",
       "      <td>0.308824</td>\n",
       "      <td>0.014385</td>\n",
       "      <td>0.006325</td>\n",
       "      <td>Won</td>\n",
       "      <td>Lost</td>\n",
       "    </tr>\n",
       "    <tr>\n",
       "      <td>14</td>\n",
       "      <td>6133</td>\n",
       "      <td>0.143950</td>\n",
       "      <td>0.037339</td>\n",
       "      <td>735857</td>\n",
       "      <td>0.268823</td>\n",
       "      <td>0.229443</td>\n",
       "      <td>0.685294</td>\n",
       "      <td>0.014589</td>\n",
       "      <td>0.000204</td>\n",
       "      <td>Won</td>\n",
       "      <td>Lost</td>\n",
       "    </tr>\n",
       "    <tr>\n",
       "      <td>18</td>\n",
       "      <td>4084</td>\n",
       "      <td>0.032646</td>\n",
       "      <td>0.043971</td>\n",
       "      <td>735753</td>\n",
       "      <td>0.057131</td>\n",
       "      <td>0.229443</td>\n",
       "      <td>0.225000</td>\n",
       "      <td>0.011528</td>\n",
       "      <td>0.001632</td>\n",
       "      <td>Won</td>\n",
       "      <td>Lost</td>\n",
       "    </tr>\n",
       "    <tr>\n",
       "      <td>22</td>\n",
       "      <td>4118</td>\n",
       "      <td>0.024383</td>\n",
       "      <td>0.058661</td>\n",
       "      <td>736014</td>\n",
       "      <td>0.046623</td>\n",
       "      <td>0.037441</td>\n",
       "      <td>0.308824</td>\n",
       "      <td>0.013263</td>\n",
       "      <td>0.002653</td>\n",
       "      <td>Won</td>\n",
       "      <td>Lost</td>\n",
       "    </tr>\n",
       "    <tr>\n",
       "      <td>32</td>\n",
       "      <td>4409</td>\n",
       "      <td>0.180167</td>\n",
       "      <td>0.144766</td>\n",
       "      <td>735927</td>\n",
       "      <td>0.268823</td>\n",
       "      <td>0.158233</td>\n",
       "      <td>0.235294</td>\n",
       "      <td>0.017649</td>\n",
       "      <td>0.000612</td>\n",
       "      <td>Won</td>\n",
       "      <td>Lost</td>\n",
       "    </tr>\n",
       "    <tr>\n",
       "      <td>...</td>\n",
       "      <td>...</td>\n",
       "      <td>...</td>\n",
       "      <td>...</td>\n",
       "      <td>...</td>\n",
       "      <td>...</td>\n",
       "      <td>...</td>\n",
       "      <td>...</td>\n",
       "      <td>...</td>\n",
       "      <td>...</td>\n",
       "      <td>...</td>\n",
       "      <td>...</td>\n",
       "    </tr>\n",
       "    <tr>\n",
       "      <td>2428</td>\n",
       "      <td>3094</td>\n",
       "      <td>0.143950</td>\n",
       "      <td>0.101408</td>\n",
       "      <td>736864</td>\n",
       "      <td>0.074577</td>\n",
       "      <td>0.078555</td>\n",
       "      <td>2.647059</td>\n",
       "      <td>0.020608</td>\n",
       "      <td>0.003367</td>\n",
       "      <td>Won</td>\n",
       "      <td>Lost</td>\n",
       "    </tr>\n",
       "    <tr>\n",
       "      <td>2437</td>\n",
       "      <td>6762</td>\n",
       "      <td>0.120180</td>\n",
       "      <td>0.034993</td>\n",
       "      <td>736458</td>\n",
       "      <td>0.268823</td>\n",
       "      <td>0.333503</td>\n",
       "      <td>0.147059</td>\n",
       "      <td>0.016017</td>\n",
       "      <td>0.005611</td>\n",
       "      <td>Won</td>\n",
       "      <td>Lost</td>\n",
       "    </tr>\n",
       "    <tr>\n",
       "      <td>2438</td>\n",
       "      <td>1143</td>\n",
       "      <td>0.033973</td>\n",
       "      <td>0.049276</td>\n",
       "      <td>735209</td>\n",
       "      <td>0.046623</td>\n",
       "      <td>0.229443</td>\n",
       "      <td>0.529412</td>\n",
       "      <td>0.009896</td>\n",
       "      <td>0.000612</td>\n",
       "      <td>Won</td>\n",
       "      <td>Lost</td>\n",
       "    </tr>\n",
       "    <tr>\n",
       "      <td>2447</td>\n",
       "      <td>7098</td>\n",
       "      <td>0.143950</td>\n",
       "      <td>0.139665</td>\n",
       "      <td>734583</td>\n",
       "      <td>0.074577</td>\n",
       "      <td>0.078555</td>\n",
       "      <td>1.029412</td>\n",
       "      <td>0.007141</td>\n",
       "      <td>0.004489</td>\n",
       "      <td>Won</td>\n",
       "      <td>Lost</td>\n",
       "    </tr>\n",
       "    <tr>\n",
       "      <td>2449</td>\n",
       "      <td>2331</td>\n",
       "      <td>0.005815</td>\n",
       "      <td>0.049276</td>\n",
       "      <td>735542</td>\n",
       "      <td>0.036421</td>\n",
       "      <td>0.229443</td>\n",
       "      <td>2.058824</td>\n",
       "      <td>0.011936</td>\n",
       "      <td>0.000918</td>\n",
       "      <td>Won</td>\n",
       "      <td>Lost</td>\n",
       "    </tr>\n",
       "  </tbody>\n",
       "</table>\n",
       "<p>412 rows × 11 columns</p>\n",
       "</div>"
      ],
      "text/plain": [
       "      index  Client Category  Solution Type  Deal Date    Sector  Location  \\\n",
       "7      3592         0.015405       0.014079     736559  0.027443  0.333503   \n",
       "14     6133         0.143950       0.037339     735857  0.268823  0.229443   \n",
       "18     4084         0.032646       0.043971     735753  0.057131  0.229443   \n",
       "22     4118         0.024383       0.058661     736014  0.046623  0.037441   \n",
       "32     4409         0.180167       0.144766     735927  0.268823  0.158233   \n",
       "...     ...              ...            ...        ...       ...       ...   \n",
       "2428   3094         0.143950       0.101408     736864  0.074577  0.078555   \n",
       "2437   6762         0.120180       0.034993     736458  0.268823  0.333503   \n",
       "2438   1143         0.033973       0.049276     735209  0.046623  0.229443   \n",
       "2447   7098         0.143950       0.139665     734583  0.074577  0.078555   \n",
       "2449   2331         0.005815       0.049276     735542  0.036421  0.229443   \n",
       "\n",
       "      Deal Cost  Year_Month  VP Name and Manager Deal Status Code Prediction  \n",
       "7      0.308824    0.014385             0.006325              Won       Lost  \n",
       "14     0.685294    0.014589             0.000204              Won       Lost  \n",
       "18     0.225000    0.011528             0.001632              Won       Lost  \n",
       "22     0.308824    0.013263             0.002653              Won       Lost  \n",
       "32     0.235294    0.017649             0.000612              Won       Lost  \n",
       "...         ...         ...                  ...              ...        ...  \n",
       "2428   2.647059    0.020608             0.003367              Won       Lost  \n",
       "2437   0.147059    0.016017             0.005611              Won       Lost  \n",
       "2438   0.529412    0.009896             0.000612              Won       Lost  \n",
       "2447   1.029412    0.007141             0.004489              Won       Lost  \n",
       "2449   2.058824    0.011936             0.000918              Won       Lost  \n",
       "\n",
       "[412 rows x 11 columns]"
      ]
     },
     "execution_count": 222,
     "metadata": {},
     "output_type": "execute_result"
    }
   ],
   "source": [
    "df_results[(df_results['Deal Status Code']=='Won' )& (df_results['Prediction']=='Lost')]\n",
    "\n"
   ]
  },
  {
   "cell_type": "code",
   "execution_count": 218,
   "metadata": {},
   "outputs": [
    {
     "data": {
      "text/plain": [
       "293.15"
      ]
     },
     "execution_count": 218,
     "metadata": {},
     "output_type": "execute_result"
    }
   ],
   "source": [
    "\n",
    "df_results[(df_results['Deal Status Code']=='Won' )& (df_results['Prediction']=='Lost')]['Deal Cost'].sum().round(2)"
   ]
  },
  {
   "cell_type": "code",
   "execution_count": null,
   "metadata": {},
   "outputs": [],
   "source": []
  }
 ],
 "metadata": {
  "kernelspec": {
   "display_name": "Python 3",
   "language": "python",
   "name": "python3"
  },
  "language_info": {
   "codemirror_mode": {
    "name": "ipython",
    "version": 3
   },
   "file_extension": ".py",
   "mimetype": "text/x-python",
   "name": "python",
   "nbconvert_exporter": "python",
   "pygments_lexer": "ipython3",
   "version": "3.7.4"
  }
 },
 "nbformat": 4,
 "nbformat_minor": 2
}
